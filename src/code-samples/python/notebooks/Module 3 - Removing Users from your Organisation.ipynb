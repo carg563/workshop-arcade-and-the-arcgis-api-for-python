{
 "cells": [
  {
   "cell_type": "markdown",
   "metadata": {},
   "source": [
    "## Module 3\n",
    "# Removing Users from your Organisation"
   ]
  },
  {
   "cell_type": "markdown",
   "metadata": {},
   "source": [
    "Before you can remove a user from your Organisation you need to:\n",
    "* Remove all user items\n",
    "* Reassign group ownership\n",
    "* Remove user from all groups\n",
    "* Revoke all licenses"
   ]
  },
  {
   "cell_type": "code",
   "execution_count": 1,
   "metadata": {},
   "outputs": [],
   "source": [
    "# import the GIS Module\n",
    "from arcgis.gis import GIS"
   ]
  },
  {
   "cell_type": "code",
   "execution_count": 2,
   "metadata": {},
   "outputs": [
    {
     "name": "stdout",
     "output_type": "stream",
     "text": [
      "Logged in as rjc_workshop to Eagle Technology\n"
     ]
    }
   ],
   "source": [
    "# connect to GIS through a profile\n",
    "gis = GIS(profile='Workshop')\n",
    "print(\"Logged in as \" + gis.properties.user.username + \" to \" + gis.properties.name)"
   ]
  },
  {
   "cell_type": "markdown",
   "metadata": {},
   "source": [
    "### Get information about Users"
   ]
  },
  {
   "cell_type": "markdown",
   "metadata": {},
   "source": [
    "#### Search for group where all users are located"
   ]
  },
  {
   "cell_type": "code",
   "execution_count": 4,
   "metadata": {},
   "outputs": [
    {
     "data": {
      "text/html": [
       "<div class=\"9item_container\" style=\"height: auto; overflow: hidden; border: 1px solid #cfcfcf; border-radius: 2px; background: #f6fafa; line-height: 1.21429em; padding: 10px;\">\n",
       "                    <div class=\"item_left\" style=\"width: 210px; float: left;\">\n",
       "                       <a href='https://eagle-workshops.maps.arcgis.com/home/group.html?id=a29ea40bdda0425bb8a91efd327383f8' target='_blank'>\n",
       "                        <img src='data:image/png;base64,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' ' class=\"itemThumbnail\">\n",
       "                       </a>\n",
       "                    </div>\n",
       "\n",
       "                    <div class=\"item_right\" style=\"float: none; width: auto; overflow: hidden;\">\n",
       "                        <a href='https://eagle-workshops.maps.arcgis.com/home/group.html?id=a29ea40bdda0425bb8a91efd327383f8' target='_blank'><b>Workshop Users 1</b>\n",
       "                        </a>\n",
       "                        <br/>\n",
       "                        <br/><b>Summary</b>: None\n",
       "                        <br/><b>Description</b>: This group was created using Python\n",
       "                        <br/><b>Owner</b>: rjc_workshop\n",
       "                        <br/><b>Created</b>: September 02, 2019\n",
       "\n",
       "                    </div>\n",
       "                </div>\n",
       "                "
      ],
      "text/plain": [
       "<Group title:\"Workshop Users 1\" owner:rjc_workshop>"
      ]
     },
     "metadata": {},
     "output_type": "display_data"
    }
   ],
   "source": [
    "# create a list of the groups that these users will be added too\n",
    "myGroups = gis.groups.search('a29ea40bdda0425bb8a91efd327383f8')\n",
    "\n",
    "# pull out the first group in the list\n",
    "myGroup = myGroups[0]\n",
    "\n",
    "# display the group with icon\n",
    "display (myGroup)"
   ]
  },
  {
   "cell_type": "markdown",
   "metadata": {},
   "source": [
    "#### Display a list of all the usernames found"
   ]
  },
  {
   "cell_type": "code",
   "execution_count": 5,
   "metadata": {},
   "outputs": [
    {
     "name": "stdout",
     "output_type": "stream",
     "text": [
      "3 usernames found\n",
      "['cxt_workshop', 'ixb_workshop', 'wxd_workshop']\n"
     ]
    }
   ],
   "source": [
    "myMembers = myGroup.get_members()\n",
    "myUsers = myMembers['users']\n",
    "\n",
    "print (\"{0} usernames found\".format(len(myUsers)))\n",
    "print (myUsers)"
   ]
  },
  {
   "cell_type": "markdown",
   "metadata": {},
   "source": [
    "#### Create a user 'object' for all the usernames found"
   ]
  },
  {
   "cell_type": "code",
   "execution_count": 6,
   "metadata": {},
   "outputs": [
    {
     "name": "stdout",
     "output_type": "stream",
     "text": [
      "cxt_workshop, has been configured\n",
      "ixb_workshop, has been configured\n",
      "wxd_workshop, has been configured\n"
     ]
    }
   ],
   "source": [
    "# create empty list for all user objects\n",
    "workshopUsers = []\n",
    "\n",
    "# create a user object for all usernames gathered\n",
    "for username in myUsers:\n",
    "    user = gis.users.get(username=username)\n",
    "    workshopUsers.append(user)\n",
    "    print (\"{0}, has been configured\".format(username))"
   ]
  },
  {
   "cell_type": "markdown",
   "metadata": {},
   "source": [
    "### Exploring User Properties"
   ]
  },
  {
   "cell_type": "code",
   "execution_count": 7,
   "metadata": {},
   "outputs": [
    {
     "name": "stdout",
     "output_type": "stream",
     "text": [
      "cxt_workshop, Group Count (1), FolderCount (0), Item Count (0)\n",
      "ixb_workshop, Group Count (1), FolderCount (0), Item Count (0)\n",
      "wxd_workshop, Group Count (1), FolderCount (0), Item Count (0)\n"
     ]
    }
   ],
   "source": [
    "# iterate through returned list of users and explore their content\n",
    "for user in workshopUsers:\n",
    "    \n",
    "    userName = user.username\n",
    "    groupCount = str(len(user.groups))\n",
    "    folderCount = str(len(user.folders))\n",
    "    itemCount = str(len(user.items()))\n",
    "    \n",
    "    print(\"{0}, Group Count ({1}), FolderCount ({2}), Item Count ({3})\".format(userName, groupCount, folderCount, itemCount)) "
   ]
  },
  {
   "cell_type": "markdown",
   "metadata": {},
   "source": [
    "### Reassign User Content"
   ]
  },
  {
   "cell_type": "code",
   "execution_count": 8,
   "metadata": {},
   "outputs": [
    {
     "data": {
      "text/plain": [
       "'rjc_workshop'"
      ]
     },
     "metadata": {},
     "output_type": "display_data"
    }
   ],
   "source": [
    "# define the user that content will be migrated too\n",
    "myID = gis.users.me.username\n",
    "display(myID)"
   ]
  },
  {
   "cell_type": "markdown",
   "metadata": {},
   "source": [
    "#### Reassign Items"
   ]
  },
  {
   "cell_type": "code",
   "execution_count": 15,
   "metadata": {},
   "outputs": [
    {
     "name": "stdout",
     "output_type": "stream",
     "text": [
      "cxt_workshop has no items\n",
      "ixb_workshop has no items\n",
      "wxd_workshop has no items\n"
     ]
    }
   ],
   "source": [
    "# loop through list of users\n",
    "for user in workshopUsers:\n",
    "    \n",
    "    # create list of items owned by the user\n",
    "    userItems = user.items()\n",
    "    \n",
    "    # check to see if the user has any items\n",
    "    if len(userItems) != 0:\n",
    "    \n",
    "        #loop through this of items\n",
    "        for item in userItems:\n",
    "\n",
    "            # reassign items to another user\n",
    "            item.reassign_to(myID)\n",
    "            print(\"Item ({0}) reassigned to owner {1}\".format(item['title'],myID))\n",
    "            \n",
    "    # if user does not have any items\n",
    "    else:\n",
    "        print(\"{0} has no items\".format(user.username))"
   ]
  },
  {
   "cell_type": "markdown",
   "metadata": {},
   "source": [
    "#### Reassign Groups and Remove Users from Groups"
   ]
  },
  {
   "cell_type": "code",
   "execution_count": 16,
   "metadata": {},
   "outputs": [
    {
     "name": "stdout",
     "output_type": "stream",
     "text": [
      "cxt_workshop has been removed from group Workshop Users 1\n",
      "ixb_workshop has been removed from group Workshop Users 1\n",
      "wxd_workshop has been removed from group Workshop Users 1\n"
     ]
    }
   ],
   "source": [
    "# loop through list of users\n",
    "for user in workshopUsers:\n",
    "    \n",
    "    # create list of groups user is a member of or owns\n",
    "    userGroups = user.groups\n",
    "    \n",
    "    # check to see if the user has any items\n",
    "    if len(userGroups) != 0:\n",
    "    \n",
    "        # loop through group list\n",
    "        for group in userGroups:\n",
    "\n",
    "            # user is owner of the group\n",
    "            if group.owner == user.username:\n",
    "\n",
    "                # reassign group to another user\n",
    "                group.reassign_to(myID)\n",
    "                print(\"Group ({0}) reassigned to owner {1}\".format(group['title'],myID))\n",
    "\n",
    "            # user is not the owner of the group\n",
    "            else:\n",
    "\n",
    "                # remove the user from the group\n",
    "                group.remove_users(user.username)\n",
    "                print(\"{0} has been removed from group {1}\".format(user.username, group['title']))\n",
    "                \n",
    "    # if user does not have any items\n",
    "    else:\n",
    "        print(\"{0} is not a part of any groups\".format(user.username))             \n",
    "    "
   ]
  },
  {
   "cell_type": "markdown",
   "metadata": {},
   "source": [
    "#### Revoke user licenses"
   ]
  },
  {
   "cell_type": "code",
   "execution_count": 17,
   "metadata": {},
   "outputs": [
    {
     "name": "stdout",
     "output_type": "stream",
     "text": [
      "Insights for ArcGIS has had been removed from cxt_workshop\n",
      "ArcGIS Pro has had been removed from cxt_workshop\n",
      "Drone2Map for ArcGIS has had been removed from cxt_workshop\n",
      "GeoPlanner for ArcGIS has had been removed from cxt_workshop\n",
      "AppStudio for ArcGIS has had been removed from cxt_workshop\n",
      "ArcGIS Community Analyst has had been removed from cxt_workshop\n",
      "Navigator for ArcGIS has had been removed from cxt_workshop\n",
      "ArcGIS Business Analyst Web and Mobile Apps has had been removed from cxt_workshop\n",
      "CityEngine has had been removed from cxt_workshop\n",
      "Insights for ArcGIS has had been removed from ixb_workshop\n",
      "ArcGIS Pro has had been removed from ixb_workshop\n",
      "Drone2Map for ArcGIS has had been removed from ixb_workshop\n",
      "GeoPlanner for ArcGIS has had been removed from ixb_workshop\n",
      "AppStudio for ArcGIS has had been removed from ixb_workshop\n",
      "ArcGIS Community Analyst has had been removed from ixb_workshop\n",
      "Navigator for ArcGIS has had been removed from ixb_workshop\n",
      "ArcGIS Business Analyst Web and Mobile Apps has had been removed from ixb_workshop\n",
      "CityEngine has had been removed from ixb_workshop\n",
      "Insights for ArcGIS has had been removed from wxd_workshop\n",
      "ArcGIS Pro has had been removed from wxd_workshop\n",
      "Drone2Map for ArcGIS has had been removed from wxd_workshop\n",
      "GeoPlanner for ArcGIS has had been removed from wxd_workshop\n",
      "AppStudio for ArcGIS has had been removed from wxd_workshop\n",
      "ArcGIS Community Analyst has had been removed from wxd_workshop\n",
      "Navigator for ArcGIS has had been removed from wxd_workshop\n",
      "ArcGIS Business Analyst Web and Mobile Apps has had been removed from wxd_workshop\n",
      "CityEngine has had been removed from wxd_workshop\n"
     ]
    }
   ],
   "source": [
    "# create a list of all license objects\n",
    "myLicenses = gis.admin.license.all()\n",
    "\n",
    "# loop through list of users\n",
    "for user in workshopUsers:\n",
    "    \n",
    "    # loop through all license objects\n",
    "    for l in myLicenses:\n",
    "        \n",
    "        # admin tools is a default entitlement of all ArcGIS Online users and we cannot revoke it\n",
    "        if l.properties['listing']['title'] != 'Admin Tools for ArcGIS\\u2120 Online':\n",
    "        \n",
    "            # revoke all license object for each user\n",
    "            l.revoke(username=user.username, entitlements='*')\n",
    "            \n",
    "            # print statement stating that we successfully revoked this license\n",
    "            print (\"{0} has had been removed from {1}\".format(l.properties.listing[\"title\"], user.username))"
   ]
  },
  {
   "cell_type": "markdown",
   "metadata": {},
   "source": [
    "### Delete Users"
   ]
  },
  {
   "cell_type": "markdown",
   "metadata": {},
   "source": [
    "Finally we can loop through our list of users and remove them from our organisation by calling the .delete() function on our user objects"
   ]
  },
  {
   "cell_type": "code",
   "execution_count": 18,
   "metadata": {},
   "outputs": [
    {
     "name": "stdout",
     "output_type": "stream",
     "text": [
      "cxt_workshop has been removed from this organisation\n",
      "ixb_workshop has been removed from this organisation\n",
      "wxd_workshop has been removed from this organisation\n"
     ]
    }
   ],
   "source": [
    "# loop through list of users\n",
    "for user in workshopUsers:\n",
    "    \n",
    "    user.delete()\n",
    "    print (\"{0} has been removed from this organisation\".format(user.username))"
   ]
  },
  {
   "cell_type": "code",
   "execution_count": null,
   "metadata": {},
   "outputs": [],
   "source": []
  }
 ],
 "metadata": {
  "esriNotebookRuntime": {
   "notebookRuntimeName": "ArcGIS Notebook Python 3 Advanced",
   "notebookRuntimeVersion": "10.7.1"
  },
  "kernelspec": {
   "display_name": "Python 3",
   "language": "python",
   "name": "python3"
  },
  "language_info": {
   "codemirror_mode": {
    "name": "ipython",
    "version": 3
   },
   "file_extension": ".py",
   "mimetype": "text/x-python",
   "name": "python",
   "nbconvert_exporter": "python",
   "pygments_lexer": "ipython3",
   "version": "3.6.8"
  }
 },
 "nbformat": 4,
 "nbformat_minor": 2
}
