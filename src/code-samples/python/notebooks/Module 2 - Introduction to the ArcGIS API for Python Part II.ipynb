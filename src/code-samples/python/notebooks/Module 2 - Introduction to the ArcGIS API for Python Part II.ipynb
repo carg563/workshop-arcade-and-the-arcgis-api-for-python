{
 "cells": [
  {
   "cell_type": "markdown",
   "metadata": {},
   "source": [
    "## Module 2\n",
    "# Introduction to the ArcGIS API for Python - Part II"
   ]
  },
  {
   "cell_type": "code",
   "execution_count": 1,
   "metadata": {},
   "outputs": [],
   "source": [
    "# import the GIS Module\n",
    "from arcgis.gis import GIS"
   ]
  },
  {
   "cell_type": "code",
   "execution_count": 2,
   "metadata": {},
   "outputs": [
    {
     "name": "stdout",
     "output_type": "stream",
     "text": [
      "Logged in as rjc_workshop to Eagle Technology\n"
     ]
    }
   ],
   "source": [
    "# connect to GIS through a profile\n",
    "gis = GIS(profile='myProfile')\n",
    "print(\"Logged in as \" + gis.properties.user.username + \" to \" + gis.properties.name)"
   ]
  },
  {
   "cell_type": "code",
   "execution_count": 3,
   "metadata": {},
   "outputs": [
    {
     "data": {
      "text/plain": [
       "[<Item title:\"Patrol Locations\" type:Feature Layer Collection owner:rjc_workshop>,\n",
       " <Item title:\"Patrol Information - Empty\" type:Feature Layer Collection owner:rjc_workshop>]"
      ]
     },
     "execution_count": 3,
     "metadata": {},
     "output_type": "execute_result"
    }
   ],
   "source": [
    "searchContent = gis.content.search(\"Patrol tags:SLSNZ owner:rjc_workshop\", item_type=\"Feature Layer\", max_items=5, outside_org=\"True\")\n",
    "searchContent"
   ]
  },
  {
   "cell_type": "code",
   "execution_count": 4,
   "metadata": {},
   "outputs": [
    {
     "data": {
      "text/html": [
       "<div class=\"item_container\" style=\"height: auto; overflow: hidden; border: 1px solid #cfcfcf; border-radius: 2px; background: #f6fafa; line-height: 1.21429em; padding: 10px;\">\n",
       "                    <div class=\"item_left\" style=\"width: 210px; float: left;\">\n",
       "                       <a href='https://eagle-workshops.maps.arcgis.com/home/item.html?id=e58d4afce39a4c3aa4bc5100c60163ff' target='_blank'>\n",
       "                        <img src='data:image/png;base64,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' width='200' height='133' class=\"itemThumbnail\">\n",
       "                       </a>\n",
       "                    </div>\n",
       "\n",
       "                    <div class=\"item_right\"     style=\"float: none; width: auto; overflow: hidden;\">\n",
       "                        <a href='https://eagle-workshops.maps.arcgis.com/home/item.html?id=e58d4afce39a4c3aa4bc5100c60163ff' target='_blank'><b>Patrol Locations</b>\n",
       "                        </a>\n",
       "                        <br/>This dataset contains patrol locations throughout New Zealand and was created for use during a python and arcade workshop. <img src='https://eagle-workshops.maps.arcgis.com/home/js/jsapi/esri/css/images/item_type_icons/featureshosted16.png' style=\"vertical-align:middle;\">Feature Layer Collection by rjc_workshop\n",
       "                        <br/>Last Modified: August 20, 2019\n",
       "                        <br/>0 comments, 9 views\n",
       "                    </div>\n",
       "                </div>\n",
       "                "
      ],
      "text/plain": [
       "<Item title:\"Patrol Locations\" type:Feature Layer Collection owner:rjc_workshop>"
      ]
     },
     "metadata": {},
     "output_type": "display_data"
    },
    {
     "data": {
      "text/html": [
       "<div class=\"item_container\" style=\"height: auto; overflow: hidden; border: 1px solid #cfcfcf; border-radius: 2px; background: #f6fafa; line-height: 1.21429em; padding: 10px;\">\n",
       "                    <div class=\"item_left\" style=\"width: 210px; float: left;\">\n",
       "                       <a href='https://eagle-workshops.maps.arcgis.com/home/item.html?id=0b2459b8140c46d28069a8a038a2242a' target='_blank'>\n",
       "                        <img src='data:image/png;base64,/9j/4AAQSkZJRgABAgAAAQABAAD/2wBDAAgGBgcGBQgHBwcJCQgKDBQNDAsLDBkSEw8UHRofHh0aHBwgJC4nICIsIxwcKDcpLDAxNDQ0Hyc5PTgyPC4zNDL/2wBDAQkJCQwLDBgNDRgyIRwhMjIyMjIyMjIyMjIyMjIyMjIyMjIyMjIyMjIyMjIyMjIyMjIyMjIyMjIyMjIyMjIyMjL/wAARCACFAMgDASIAAhEBAxEB/8QAHwAAAQUBAQEBAQEAAAAAAAAAAAECAwQFBgcICQoL/8QAtRAAAgEDAwIEAwUFBAQAAAF9AQIDAAQRBRIhMUEGE1FhByJxFDKBkaEII0KxwRVS0fAkM2JyggkKFhcYGRolJicoKSo0NTY3ODk6Q0RFRkdISUpTVFVWV1hZWmNkZWZnaGlqc3R1dnd4eXqDhIWGh4iJipKTlJWWl5iZmqKjpKWmp6ipqrKztLW2t7i5usLDxMXGx8jJytLT1NXW19jZ2uHi4+Tl5ufo6erx8vP09fb3+Pn6/8QAHwEAAwEBAQEBAQEBAQAAAAAAAAECAwQFBgcICQoL/8QAtREAAgECBAQDBAcFBAQAAQJ3AAECAxEEBSExBhJBUQdhcRMiMoEIFEKRobHBCSMzUvAVYnLRChYkNOEl8RcYGRomJygpKjU2Nzg5OkNERUZHSElKU1RVVldYWVpjZGVmZ2hpanN0dXZ3eHl6goOEhYaHiImKkpOUlZaXmJmaoqOkpaanqKmqsrO0tba3uLm6wsPExcbHyMnK0tPU1dbX2Nna4uPk5ebn6Onq8vP09fb3+Pn6/9oADAMBAAIRAxEAPwDXt48YrQj4FQRRgCpwMVsZkoNSA1ADipFakBODTwahDU4NQBMDShqiDUuaAJg1OD+9QbqXdQBZElPElVA9PDUBctCSniT3qoGpwaiwFwSCl82qoanbqVgLPmUu+q2+guaLAWd9JuquHNO8yiwE+TRUIc0u+kMsAilYgioA9SA5oAilxRTnQGigDlFOBTw4qPFYviPW10ayGAzXE+UiVRk59cU5NRV2XSpyqzUI7sv3WvafZSmKSfdKOqICxH1PQfTrUaeKdOLbR5xPptH+Nclpnh7UL2Tz7+VbWNxnZ96U59ewP5/Su303w5plnGrLaiRsZZ2JLsf5Z/CvExOd0qTstfQ+gp5ZhIx99tsafEumRxl5pXiXGcvGeanstUl1OPzrHTZ3gB5klGwMP9lfvH9KkvtC0qaJJIrSJ3J3dCSPqDTdOuZLPUYl2sWkbbtP8VcU8+nKypxK/s/Cr3oJvyb/AMrGgpygLLtYjlT2p3FT6iGdVuRGyLkxsG6hh/n9KoCSvo8PUdWlGbVmz52tFQm0ixijBqMSU4SCtjMdzShjTd4o3igRKGqQGq4anh6B3LANSAZqur1IJcUATbRSFRUfn0ecKWoEm2lC1F54o88UATgU4Lmq3n04Sn1pDLGMd6cDiq4f3p2/3oAsZoqt5tFAzmcgdSB9apSWMEt0115JnuMAI7DiMDsuenfnqc+nFSxkly0vPPA7VY84V50qFbGX9q+WF9lu/VnZGtDDP93rLv0EtrcI291ORnb7e+KtPJufftAbvz1qqZveo5rpIIZJpG2oilmOM8Cs6WRYSD5prm9RzzGvPSOnoSXV7HaqHkY73O1FXq59B+f61n3Mt5ut7rcsckDh2iRd2VzyuT14z2GfSvNtV1y5vtQkuZcmJzhFH8CjoP8APcmtjw7r6wWn2eYu3lv+7Yc/L6VpOMIpKnFJLyPoMFl8VFyru8mvuPZ2livklt1bLzwCdAP7wyOPrg5/3vcVy1/qdnpduJ7ydYkY4XPJY+gA61c0W9judOguoCpl06fAxwfLbAIH0Gxj/uGuO8f2MUvi62ibMkUyZgRThR95iT7DhcDnjqMDPbOryw5kjwfqkFX9nUdkr3+X+eh1Wn30WpWn2mDd5e4gbhgnpzj05HNXADXA6d4f1i3SP7Jqbq7xuLcA/cAPO8HoDk4x19O1ddosOpWtj5ep3MdxOGOHT+76Hge9Z4avOppJFZhg6FF81GenZ7/19xpbGxXFa34xns9XlsLO2eV4jhgMD8cnPvgY7Z+nalz3NcVqumfYtZS+8tXbzzMJD7/w+33QPoM9sVWKlKMNDDAqDqPnSfqdDoGrNrOnLdNby25J+7IpGR6j1HXkela+cd6jjhFvYWsS7CcMVZPuiMnKKD3xyKUD1Na0G5U02Y4rlVWXKrIk3UbzTM4pCxrWxzkm80hc+tQM59qaZGosBY3n1p4b3qpvY9qXc1FgLgf3pRJjvVLcR3pQxosO5d873pfNqkJMUebnvSsFy75poqp5nqaKLDuZasG7VICo7VEGUDrSeaoqhErYPasvXoXm0O7SLltuSPUAgn9BV3zM96Ac0pRurF0punNTXR3PJJDDCu95s+mR/hn1q1pOnT3M63artsDIqTSrhimf4tuc4GefrXpd5p1rqEBiu4hJGTnDf49aq2Gg6dpe4WwkSN2BcB2J/DmvLxsKtGi5ws7H0dLN4VXytWf3lzwvolxbtqEZkVtPmQBy5IKnGGI45BGD2/xfrPhkSX9prkV5JcRQYjMTx/KSf4s8Ht6fxHBp1zJ5Dx2sSNFEq5OHxwB8oIBPr6/hzXV6cLiZra2iMJhdAzpJ/Fjnjj1rw8LmlapNUaj0e3r0JrUk71mtf0MyK0NpZGYRviRFzvXHlgk4+uTu7DGfcVB5iiujleAhRJIEEmAVDkfe/wD1EfhWPq1kkUFrPEgUMSjgDHuP0zz7V6GBzOMZujUjy76+h5mLpSm+e9yNVV4sq2ZScBOnbOc1BD4XL3q3VwpklKgSg4EbsDjJHUjgHHsB2yWszRSRsGIbfx+R/wA/lVyy1yPevmTyQ4YIFwu0846f/X4FfPzzLE4mqpt7dOnoejSwqpxtBF+exmuIkKpseICMRheoA6jHHp0rKlEkLlHBVh2NdKmoQGZ4g+11JX5lOM8+nbg1l6+EEQkXy8LIFBQ5HzLk/qCfxNe9leZVJSVKr12/M8zFULXnaxkmQimmQn1qt53NOEpPSvpDzifdnsacD7VCHNO8z3oAmz+FHHc1EJB60vnIPeiwDy6joKTdntUZnHZf0pvnMei0WAl79KX8Kg3yHtS/vD2oGTFsUVCEkNFAGIZeepqRX3DhT+dVhgfxVIHA7mgCyqn0/Wnh2XpiqwlHqaesnsaYE+5245qeNFQnkEj3zUEcgycjt3qZOc7eSO1fK5/j6kJfV46Lr5ntZZhoSj7WWr/It3TpcWMK8blXA9iOK1NPuCltHKp+e3bdj/Zzz+mf0rn5HKDI5Q9QDyDVnSLki+EceXbo0e08r/Kvl4Kd04bo9qaTp6m9cTtputTQkj7LcOswcnOVJyQB2AbP+TVqa0iudJVYi2W/eKrNnacev5jn1FV9Zs1uNOguozse2DJyMkjBK/qP1rJtdVmcGARRRjZgsoOf5+5/OvXxODrc08RDWK131Savp+KPI9rTfLD7X+Wga2gVrAgjezb2x6Y/+y/Sqt1Ja2dlOzQh5QBKi4JLEMO+DjqPyHpWh4hwuo2ZHTyQSPxIptsyCZVdsI2VJ9iMf1ryKtN0XC+zV/vO2hUvFvsaOgXUWtwFbi1NvKPvEP8AePPTp6senc1R1GQtpKE9TICcdBwf8f0rb0MvEZLeUjcOVPqP/wBdUrqNHe/tsfIwYgY7jkfriu3DV4wr0atrJOz/ACObEL2kakY9ro5XeKcJfrTNq560fKK/Rj5wk8z60eYKZlB2o8xR2H5UAO8welLvPZajM3pR55oAmDP2WnAvVcSsaPMPrSAtgv60u5v71U/MPrS7z60DLe8/36Kq7veikMxVdWLBXU7evtUuNv3iBwDyfXpWxqVs0emR+RYO8kMruJFVkQAgDrkZ3YzgdyOa5bUbvUzBLbEiGJ8MyLxG2CBkADr0681yfWJLdHR7JNXuaJkjQsGlRdgBbJ6Z9afHNE5IW4jYqMkBgcAd6paXphvUSGS4jJkDMGfBGAABn3H+Fa8fhZF837POskka7yYUOUI91PJPYE+tCxIew6kDTwpjdOg5x94damRs4ZHJz0IPWqkc1jE1uxkl+0wuW810DBz6HnJGc+/PeuqhaS7u4orM2gcq0T/aHYFCQCwUKcc4PQ+3pUyr82kkmhqnZ6Mx0YSqC0h+b+IYOf8AGtqOyisUS7tXkmcqMkpgKD/9cevasq4ghiEa2iObfaGTOMkHntx37Vv2BYWHlTozwLnZMDtIB6hge1fHSxccLjJ1FFbu3kezyyqYdRbOitp0uUjZlG25jwwA/iH+RXAykadrKRSKyrJI6J8p6Akfh+NdPo05NgyBgxt5AwYdx3xWd4qigaa+cQKWS2EgfZzkYOQc8/Lx07e1fTYhKUJJbTi1/l+bPMopuav0aKmqXEdzdWZSSJswbQFkDHhj2piksAoB3Vymo6i7+D5HiTa8XyidfvLmTBQEew/U+vPHRalqrkIuqXygcYW5cf14r5/E5c6qhaW0UvzPpcFgJVIzcX1f6HvWkzMGjiuUJwNoOO3p/L8qffutrrkblSVcBj79uv4V4Z/bDzqzTXc950UvKxcr9Nx9v8546zRL2U2SQR+dG7uu5kQEqgJwcDduPX6fjWCyySg4OWu66WsaV8s9lD23Nfo0vM1rnybe6lh86P8AduUyWHY4pgIYZUhhkr8vPI5I/I5q1qMFzLfvPCYWYjCtcMCvPPRRuGOeuaR4rm7tLlNR1FZbiR98csUWCh49xnoe3evp/wC2cPCKU5q/W2v5HycsFO7smVGYKXDMAUO1s9j6Gmhww3A/LkjPTJGM/wAx+daMBeGwS0e5eQeZukbYMyL8vyn2+U/99Gs+/tJnlE9jcBNq7fJcbRj2Yc5OAOe3WiOeYWTspfg/8iXg5pbAeB1Hp1pvVtuRn0zUtx4ovbLT7e2vrNwItxDLJlG9CDkYIye/X0NZra3Z31w05gjiITapDn3xxnnrXdHFqSvFXRl7HzNAK1P2msRpkuHIF1I2CAfKVvz46dO2O9RTX1zaOVWDUHjQ/fUbh+ZH+NaLEJ9BOk11OhCmnBcVhpql8bdHjt53L5xuQDAHvjr+FWl1C7YnfaTRAYIJTdu9u3+RT9suwvZs1MUVnG6uTtbaSnoMI345z/Kil7Vdh+z8zs28PaW85kcyMOPk34XOc5wB1qWbStNnZWnQysowCxJOP8ipVwDjcRnk+wpwdiuWQnk/dGc15LqyluegqcVsRRadYW7h4BJG2MZRiMCpo7e2iYMhnBBzxKQPyz0pPNOeOfQU5ZwQDng0lKw7EMul6ZPKZJbJGckks3Xv/iaVNM0+KUTrbDzQ27zM/Nn1yKm80ZBHGeh29aDJ/tAfQCnzMOVHlnxRgWHV7KaJSnmQFd2epVuef+BCuWGZNIaHHmTSLhcLk8kH+lep+NtDl17S0KyiN7ZzJl1ySuPmA9D0/IV5tcfadwgMkSJv2iKCPYCCRkZ61z1ISlJWPpsvx9CnhlGW6TR3/wAMdRM+j28ExOUDW7n9R+hA/Cu0ubUSpFcNF5kkY8pxu5Ugnkcj1P5CvPfEcN14bRf+EdhjiMqKyHbuC7DgkA5ycFMk+mfety28TXs2hQ3V1DHC0vEypkEyjH3eeARyc+uPeu2VWEafNPZHzFZc1aUoaXMzxvp0Fr4UuTZWUkI8+N5cLsXGcZxnHcdB/KvMbS8+zxzLtyXGM/hXomsancapYXFvJLhHQj5m4H+FeeR2KIN1zcIpIyIkOWPsey/jXnPE0q7bgrI+nyWu6VBqo9U/0KVrIRCVB4cA/jW14fuJxqYcOxVEwefyqJbD+ypI/s94ZZAFYTRHABPp6jitTSYZ3ee6nMflnA3KApYjqSAMfj9ajEyTpuXRjq5jGVF046M6yKdnUHJqwJcDJOB3rDTVYlIjhBlyQMw4fqCfX2/yKbdJfXweG0kh2mMgzGVx5cgIxgr1OOenbB9/C+rO/vaI8h1E9jZfULeNnQyAyKCRGPvPj+6P4vTjvx1qW0uIr61FzayLLCRkMp6jOP58Vir4djlllNxctLDKweSHaNrMOjc5KnHUg5OBzWtZWsGnQvFaIIo2ZmKjoCTk4HYewpSjh4dW/wDhv8yPfe5eto5LkSQpIyHAYbfqB/X9KdLoV2xBZ3Yn1IJH5nNbGiWCRwmafHmScKpbBUf/AF61kiiDZUDI7iXn+dfWZNB08KlPrr8jyMXHmqXRxB0GfeQd2R7D/Gon0G45wk2c9RHXoJWR8EAKfwP61AbWY9JCPYKtevzHL7M4b+w7plLeXLjvlMVH/YczHjzePXFd/JbAqAyktjGR6/hVR9KjmY+ZHKRjjMhxmjmD2ZxUmgyxqG3uAepVlJ/KiutOiQhv+PQkeol/+tRRcXILb3kdxAZFkEkXTKHJRscjI/nUjMvR5owSQSQRyBzg1RsLlJbm6tEBeM4kXBYd8NyOev8AXtV17aESx74EZowSkj9EP+8ec+5/CvGsevcf5jsP9TvDHh4zx+f+FMmlGPvmMEEEsuVOPU9QPXOKkLElidzrtARYWEm735/Co52tRewLLh5gNyKzAMnvx+Xv0p2C4pconmYEkR+YAfMCfVQe2fSiGRnjJMcuwk/wnk57jGQOeh7U6dPKTais8TffXG4Y+mP5GqtwbU+TEzJCOMOxGEwOMKTkc+x60ASyyKIWaVyVwTlVydoBB3E/jzx6V5RFFu1zTx/08x5z/vCvTNSRTYXDG681TE2NsikZ2n3z+prz+0Qi4trsNtEFyjOwGcDPWg1p7M1fEmqm41LyrfYq25/1ikEl+OAR2H+elZmq621pYWkFzukmVWlYKAB8xAA474HpUDXIvJJronAkZpcvx1JP51zmozfap3LyFt3Khz9z2x6Yx+npWFSPMuR7F3hBJM0J9WlmibA2JuIGOpx6n/Cqex3t3kWMlegO3I3HoD9fp1wO+aclmxaGJpTIz4Zm+v1OemK6Gy0mzKMuwy+YArbiSpAOenTg+1Y1atPDQSSLhJc1+hzduo24QAA84HY/5/TB6k102iKwsWXGQJDj34FVNcgWG+jEaBQYx0HXk10Wh6ReGwTbA+X+bJGAO3U1jipOphk4rVlSlzSuQQ2qROWSFELfe2rgn6+tXE49K04dEkZh5siKM4O0hiP6frV1dP0+yYNcO/H/AD0Xj06enSvPjgq9V3at6ke0jEyre2luG2wxs574HSta20iS3mjdniZx8xRgePz/AMKsvcQRRFoUST5cFVwqY9CC3FLYzNPGJVhliRvvl5eBz/DyR/KvRw2XUqT5p+8/wMZ1ZS20Jd92Uw1snDYysjqf06j8abI4RdrRMmBnAIA/LP1/OohNfW8wWTzJITkh0/ekD1IUKf0P49asSudu4wiRWXdufcV+nIwPz716dzKxHGypCZFiK88oCWB46nGaie6I3eZdfZyT8ob5MDPo2KmWaURhl3qgGQCBtI+mCcfiKZHMJxl5yTghWRCB1wTwOv4/hRcLDt5RBuu5C2ecyBR/P6VI15Oy5jnkC9DgjI/PNVxHZE7mBVm6su4H8TwBQ9taGYZxlhhQyA/limpPuKyFF9dYKxXisdx5lBJHtgD+tFZ862ltOQIpg6nho45cL78Aj9aKftJdxckexRhvnOoW17GNhkABjJyMEHj6cVZl1qd3YLFCjKCAyryO1FFFtCgN9dyOoM3yjG7I5PH6dajlIhZpTvcuyqQXOOTjp0oooSBkU0qo6oIlAPpx1xUcoSZ3geNWGMndzRRVCKd26QkgRA4wMEnGPpVbTYFl8Paxn70cbMrfgaKKzqbG9HdmZb2MU1hFG4ypG7kd+R/Sq8ulWu4KYwe5yM0UUR2FNe+y9oNj9v1aZUaONo0OC0W8DtwMgdK9C07T4IbYERQsckMWhXnkjsBRRXNNKUtTSWmxyHiWFH8T6dHtVVZguFUAff8AQfWunvb24s/KSNwVHAyO2M49D+VFFEtErC3SNlhtihD4Z3AO4DA9en4VH5MlsivNMZg2cYXZj8uP070UVqtjFisyQxCUpu3H5hkjn1BrPTypr6RPIQLKwU5ycfj1oooBDEjQSRW9uGi2qXUsd2OORxirDyiWNjIgZxwrDAIIPB45/WiimgZnx3Eqxyo8km9efMicqeSOOc8cmr7CTTY4SZ5ZxO+MOeV4z169qKKEDKOt3Is2AfzZcKr/AOsCjqeOntVe1vi9g115eANx2mRi3Q/xE8dPSiigAhWDUQf3RiYAj5CMEe/FFFFMD//Z' width='200' height='133' class=\"itemThumbnail\">\n",
       "                       </a>\n",
       "                    </div>\n",
       "\n",
       "                    <div class=\"item_right\"     style=\"float: none; width: auto; overflow: hidden;\">\n",
       "                        <a href='https://eagle-workshops.maps.arcgis.com/home/item.html?id=0b2459b8140c46d28069a8a038a2242a' target='_blank'><b>Patrol Information - Empty</b>\n",
       "                        </a>\n",
       "                        <br/>This dataset contains patrol locations throughout New Zealand and was created for use during a python and arcade workshop. <img src='https://eagle-workshops.maps.arcgis.com/home/js/jsapi/esri/css/images/item_type_icons/featureshosted16.png' style=\"vertical-align:middle;\">Feature Layer Collection by rjc_workshop\n",
       "                        <br/>Last Modified: August 20, 2019\n",
       "                        <br/>0 comments, 7 views\n",
       "                    </div>\n",
       "                </div>\n",
       "                "
      ],
      "text/plain": [
       "<Item title:\"Patrol Information - Empty\" type:Feature Layer Collection owner:rjc_workshop>"
      ]
     },
     "metadata": {},
     "output_type": "display_data"
    }
   ],
   "source": [
    "from IPython.display import display\n",
    "for item in searchContent:\n",
    "    display(item)"
   ]
  },
  {
   "cell_type": "code",
   "execution_count": 5,
   "metadata": {},
   "outputs": [
    {
     "data": {
      "text/html": [
       "<div class=\"item_container\" style=\"height: auto; overflow: hidden; border: 1px solid #cfcfcf; border-radius: 2px; background: #f6fafa; line-height: 1.21429em; padding: 10px;\">\n",
       "                    <div class=\"item_left\" style=\"width: 210px; float: left;\">\n",
       "                       <a href='https://eagle-workshops.maps.arcgis.com/home/item.html?id=e58d4afce39a4c3aa4bc5100c60163ff' target='_blank'>\n",
       "                        <img src='data:image/png;base64,/9j/4AAQSkZJRgABAgAAAQABAAD/2wBDAAgGBgcGBQgHBwcJCQgKDBQNDAsLDBkSEw8UHRofHh0aHBwgJC4nICIsIxwcKDcpLDAxNDQ0Hyc5PTgyPC4zNDL/2wBDAQkJCQwLDBgNDRgyIRwhMjIyMjIyMjIyMjIyMjIyMjIyMjIyMjIyMjIyMjIyMjIyMjIyMjIyMjIyMjIyMjIyMjL/wAARCACFAMgDASIAAhEBAxEB/8QAHwAAAQUBAQEBAQEAAAAAAAAAAAECAwQFBgcICQoL/8QAtRAAAgEDAwIEAwUFBAQAAAF9AQIDAAQRBRIhMUEGE1FhByJxFDKBkaEII0KxwRVS0fAkM2JyggkKFhcYGRolJicoKSo0NTY3ODk6Q0RFRkdISUpTVFVWV1hZWmNkZWZnaGlqc3R1dnd4eXqDhIWGh4iJipKTlJWWl5iZmqKjpKWmp6ipqrKztLW2t7i5usLDxMXGx8jJytLT1NXW19jZ2uHi4+Tl5ufo6erx8vP09fb3+Pn6/8QAHwEAAwEBAQEBAQEBAQAAAAAAAAECAwQFBgcICQoL/8QAtREAAgECBAQDBAcFBAQAAQJ3AAECAxEEBSExBhJBUQdhcRMiMoEIFEKRobHBCSMzUvAVYnLRChYkNOEl8RcYGRomJygpKjU2Nzg5OkNERUZHSElKU1RVVldYWVpjZGVmZ2hpanN0dXZ3eHl6goOEhYaHiImKkpOUlZaXmJmaoqOkpaanqKmqsrO0tba3uLm6wsPExcbHyMnK0tPU1dbX2Nna4uPk5ebn6Onq8vP09fb3+Pn6/9oADAMBAAIRAxEAPwDqYkxVlRgUxBUlemcAUtJRQAtJS0UAJRS0UAJRiloFACYoxS0UCDFGKWgUDDbRtFLRQAmKSnUlIB9r/wAfkP8AvivJPFXmxeLtTeFirrMDwevyg165a/8AH3D/AL4/nXlviyR7bxfqpALxF0LpnGfkXmuPF7I9zI/4r9Bnh3Xora9MxxDK3EyA7Ul98dA3v/8Aqr0yB0uIUmjOUcZFeL3FoFJuoQDBIeRkfKfQivQPh/dyS6LNbSEn7PLhSeysMgfoazwlRp8nQ686w8ZQ9tb3lu+6Ot2AikMINPBpa9A+ZsU5LYYoq2wyKKLhYiAxS07ijigLDcUuKWigLCYopaTigAopc+1FAgoxS8ijJoATBoxVbUL5NO0+4vJclIULkdM47Vxt547nsryBXjWRC2J4wmGX1C88ke/X2rCriIUpKMt2duGwFXEwlOFrI7ulxSIwZQysGUjIIOQR608Zre5x2G4oxT6XilcLDMGkxUnFBAouFgth/pcP++P515h40Ujxdf477SfyxXqVuP8ASov98fzrzDxvlfFt5gZJVf61yYv4T2sk0rP0OeAPlsBgDvzUuka3caBfG5iG+IkLPF/fX/EdQf8AGoY4zIxV32jrnGabd26KuY3DoeD7GuKMmndH0NampxaktD2a1uY7u1iuYjmOVA6E+hGRU4rJ8Nc+GdMwP+XWP/0EVrjNeundJnxFSPLNxXQXGRRSiii5FiDIpePWm0tUAuBS4FNooAMe9GPeiloEJtPrSgY70UUXHYXJ9TRmirVlbC5lIdiEUZbb1PoB7ms6lSNODnPRIcYuTsjnPE+k3GsaLJb2ieZcoRIkf98Dhlx3ypNec2Ph3X77UEgvoZ7ZHQq0xiYNux1LkZPPHJ+gGK93TVdBG20M8BMi+Z5TRswIGeeRg/dPXn8xTlk0OeLdCbIFsEMqKpJyAPTPOPzHqK+ZxWZe0q80Yq3nuezQpTpQ5Xf9DAtreK0gS3t02RIMKuScD8amL7AScADkkmr13HA8AmhUI2cEKcq3uP0P0qjmvfwuKp4mnz09lp6HlVac4T985TXfELwzzrDI5iijJAh5yw4O4qcjnjtwGPPFaHhfVbnU9NDXO1pFCkOpHzKwyM4/i65FVvFfgr+19MnvRMbJk+YymEHfgnqCQe+M9OBzVX4exSyaVP5O94lkAVSvzfcHXjnoee3T0riw+J5q0m56Jtf5eR62JlSeEjTjCzVtev8AmdgM+lOzjsKbyDgjFLXqniksDf6TF/vj+deaeOMp4ruSBnci/wBa9JgH+kxH/bH86848fDHiibBwTEpH5tXLivhPYyW/t/kc2XwCWQEe44qq+XY4x9BTppNzBR261LEFWIBQHkb9K4VofSSfO7Hqvhl/+KZ0zj/l2T+QrYD+1YnhQ58KaWSOfs6D8hitpTjtXrR+FHxNb+LL1Yu/Pail3RkcjaaKZkU9wpdwqHNGa1sRcm3CjeKhzRmiwXKOs69aaHbLPd79jEqu3GScZxyR6VY0/UoNSsoru3JMUoypI59K5bx1CW04XEiq9tEjbwTyGOFUj/vo5PXpSeAdRtJ9CSxtgwe0+WQE5yWJOQeOOvbjH4nKMpe0cXsayjFU1JbnahxS7x61Rmvba3B864ijx2ZgD+VRw6tYXLhIbuJ2JwADgmt/Zyte2hz+0je19TS8wVPNdLbaQHAO55N/ynBwp/8ArH86oFqS833NgsURwyKQfxJNeDxBz/U/cXVX9P8Ah7Ho5dyuuuYfcwRS26tY6f8AarqX7sjOAoBVuhLA87u+R8xNZVitw8k8Oo2ElrcovlI0Rbbt9m6cZHFa+lTSvBbGRQrNxhenBx/So5Z0a2tyDhvmLn6n/ACvh515RTj+J9DF6WHWV65mlhdiyoF+Y9WOMH9Av+RWvb3Vrp1ubu467uM44A4J/X8cY71x1rNJFqssZQYZQQR1J7/0rau5mUWrYBKkD8zj+tb0cViMPSko/DK2v6fMxqUKdSpFvdFTxp4tivPCeoraRzMx2RjcnHJB9cdP5j1Ged+HfiDyNNltjA8jPJ88jvjBC7hxjsVHfuOhq9rek6xrZns1lt4rSZPLKFgzdTz9zqeB1wOepqLTdNuNE0OWBlt87CfkYsXb1JIH8q6PrEFhXB/E33K9ilO62O5vXWUR3AXaXGWHp3H6fyqr5i4ojmivLJcybT5e/ke2cfj0/GqJavqsixDr4W0t46f5Hg46n7OrpszThnUzxD/bH86z9U0jT73WJpLu2WVsKOe4ycZ5FED4uIuf4x/OrV84TVrgn+6O5BHX8/xpZ43DDXi7ao6Mqk/av0MG58NaWZC0dhEBn7oyf61Amh6eswxaRqxPJ5/xraSdhIehB7CnqodmZQW7dhXykq9SK3f3nvxbItN2QabbxIgRVQAKBgCrfnDHWqMMgECD/ZFOL5r77CK+Hg32X5HyWIf76fq/zLRlJoqpvorosYXF3Um6vOWurjgfaJWHsxpq3FwxKiWYegBJppp6EOSR6TupCwCkswVVBLMxwAAMk1wM0dxaQQyTTM4mXcoWTIHsSD1wQcehFVJLu4keM+c/7s5TDH5e/HpXZTwc5q7djjq46EHZK50HiZpNU8PSz2hZYIZBIZTld+zB4yMYGVPUZxxkg4pfDi20L7FcX928wmQM86hSIgm4jkA5bovcDLDg1z2qT3N/JJAZJri+uELAyOSWwAPvH2A79h7VXsIXsrOK0aNzcrnfGByrZyQfTFR7GCrOPNay/Uv283RUuW93+hcuXjeZ5NoCliwUnO0Z/pmr/hSyN9rBkldkjtgkyKeGlznaw9VyDkjuAKzltWds3ILY6RquVH19atGZ/MV2STcqEBgOntknp/hVYjGKXuw2M8Ph1D3p7npWTTS1eatcvj5ncDPrn+tPtrpfN+dbqTjAWNtpJ+pz/KuPnR2cx7bp9nFJpkRf/WlS6t/dPY1gXdjNawojxAKoyHU5DCuXk+Il3pVnHFDBA8aRrFjcQygLjBB7+44NVm+J0s8flPpsTxYx8spGD69OtfnmKwladWUlHdvt3PtaGAxCprToup0qsRLkDgjB+oq7Chvri2gCs2WXIUA8Dk9eO3f1rzu68VHUraW3W18kMFO4vuPBB9B6Uum6i8FpcRySt5R+YhB1HQg+oPH5fWvSWAnUyxQno4yuvT+rnCotZkqL0clb5nq09xFYplXs4iRjdLeeXn8jiuYvtX0y0uDFdXkCu3PyksvPowGO/WvOrvxFO037gAIOhcZJ+tVrrVHvV2z7iq/dUHqfUmuGOUw6tn0ayuMVrI9Lu9Wi02yt7tI/tFu8yRAxEFfmzg9enHb1q8zSBEeWIQ+YodU3hvlPTn/JrivC+2bQ7y3kwFSUTIPc7RgD6/zq54jV3tbCRFJOx0JHttx/KvbwFaNLHOlCNuZK/qle58nmFDlovmd+Vv8AOx1KSgSocjgjvV/VojJrMoDBPkGSc+p9K8qjWVNreW3XPNerayIzr0iyTGIFeHxkZyetdOfP/Zr+Zz5Q71X6FSKzeaQokiHH1rT+yEW2w53LyHzzmoY7WSKLeHjlPbFSpdgqfMyhA5zXw86jeh9El2MRcQjyiwJXjOaXzF/vD8643xG/na1OyA4GAOPbJ/UkVlKjsPm4P161+j5fJ/VKXNvyr8j5HFtfWJ27v8z0fzFH8Q/OivOXhfbjbge1FdlzmudkulxlQDboT7qK529H+kyxpGsYRihCqB0OK91h0CziySGk9Nx6flWfe+BND1G4aeW2YSN94pIVz7nGM0sLiYUZ80lcivg51I2TseQTwRnwzBOTteG5dGJHDBlUjn22n/voVnW1tc3pP2KzmuB3ZU+UfVule5ReBPDluvy6ZGzdnkJkI9xuzUkvhxTyl1IP95Qa6Xmjs1BGH9mbOWp8663JqWjXsUZ2Ry7BJ8vPG77p49VGcVr+HtKuPKfVLtBLcXa5AZeFXOenTnr9K2Pin4fvdN1Ky1VjHcW7gRDKkqGU5ww9Dn17Gt3wj4h/t2aPTdQ8vS9QZQ0MboVSZSMjZn9B3HQmvNlUdSo5zep6Ps3CiqcFoYhhuDuMduAT0yowP0o+w3XJKOWOMkLx7dq9Lk8OakGws8R5x+Hr0pJvD1+k2xHEi/3wcVV4nP7GXY8y+w3AkyEcE9gpqRYZ0YDlccdK9Mh8NXJ3edPs7DHPpVqTwwPKXyJ5BKMZLH5T68Uc0Q9hM8K8Safs/wBIBO9hlgf89/8AD1rn4IGitkLDAfLr7gk/4H8q9N8eaI9tqAlE/mnHlbdgOCV7fyqt4y8JNpFjpQcBMW5iIXn5lIJz9S5NeNOi3zW7/qffYXNKUVRjK9+Wz+5HI+G1B1bZsDb0br+f9K6vVY7m+0l7Uu21cbQ5OAAenritHwV4HeWztdajaR5H8wBSVCY5U5GM/r2rq7nwpcPCY5VR434Kg5rto037Bwe7PAx+Kg8zhiaabUbX+T1Pn3U7P7M80TEOFzg46j1pFB2g13N34TjVWWSDazvsBYnJ5Izj6im6l4dsrDUbi3FvjypmQDceAGIHeuL2cuU+k/tWj7R2T1XkSeFZo49NgZyrIlwVcY6ZABGcehBrqWBt43jSPzGRyoznirOo+HVsvClpKkaqmIztVQAMjJP5/wA6l0S2Gq3hSXlmUnjuQB/9euWUVTzGm/JflY+dxE3XoVH3bf43MbymId2BjI/hGSP1rptTSCXxA6XGQhizkdjk1tp4YtSh3W4z/tHOa5/W7czatwm5tnToTgnvXbnPv4Vpd0ceU0/Z1XfsWIbUWZzEzyoe2RSsizoxmRUUggZGTzVfTIAc4llhYHBRhkGugttCmmnE0jBYwPkBHf1x/nv618hRwdTE1FTh832R7tavGlFye55+NFubmdpBYqWJJJeMD881ow+FbqQbzHaRkHoEH9BXfJpGzO58+mBilFjKXypC+5r9AjLlSitkfJOhzNuXU4I+HJIyxkhjPf0z+lFd+9pIGPKHPJx1op+1Yvq6LX263JwHP/fJpn26In5XH1NUcUYHpXL7SR6Xs0aK3kB+9IgHqTQ93BziVM/7wrO2D0FJ5QIGc8dMcUe0kHs0VvE9hY6/oFzYXUsahl3RyHny3H3WGOfbA6gkd65K3jTUfhzYRX1kG1SxKQ267csGDBQR7bOvbgntkdvsU568+9IYxjjGfU80Oo+wKCQ7SJLe0023ga43tFGFeRmzk45wT2q62pWyqWDbgO4FZ5i3ZBxg0JFhRuYM3c7cUe1fYTpruWft0d2pEbYweM8ZqytyiqqlxnHXNZxiQjp9D3pghCybsseMAEjaPfp1p+1fYXsvM4O/uPtfjuygb5gl8WOfZif5A10fji7sptJhjdFkxJnbnp8pxWJYWYf4jzM3WFJZBn1J2/yY1s+LbSOTQJH248plf/2X+tYqT5Gjskl7WJF4E1WOHwx5bIQEmk8tVGcKTn+ea6m31aOaRVZWUH+IjFc14Qhji8J2G4gEh3POM5dj/I1uRtGWwGUkc43f/XrWNSySOWpTbm2chfG2n12xfywWa5jLHJ6Fxxj8au69p2nNqF7dSx7vPVWwTjYQMEjHckZzWBZW0s3jC2tmY/upyT9Eyf12/rWt42gkjjhuYz+7YGJwex6g/wA/yFYqXus62rVEvI09SvY7rwApHVYYcH1IZVP9ayPCtylvrVuzE4+bIAz1RqnsVz8OBnJ/dS/pI1ZPh99ur2xJwC4XP1BH9a8/FO+Kpz9PzCEbU5x9T09b5SCdpC9jn/OK5WTTm1HWHZZEWELhnDZIYZIGMY75rc2qT1/Ws3Tf+P2/GSAJFP8AP/CvUqqFWHJNaHLT5qbvHc0NJ0pLWRrie4NxKBhSFwAPp3Pv7mthJkkBKnOKx2GBlSQKjR2YkhlAPABPP4/4VFFUaEeSmrIc1UqPmkzcMvOMU4MKxlJI3Kx/76pHaY/ccg/Wt/axM/ZM2sqT70ViF5QAWkYH2PBope2iHspDw2R90/pTh9Kapz3pwrI2Fo59qKTnHAoAbiUjnap9uaVVIUbmJPfpQG+bGG/Knd6QBRjPGDTWDY+QgH/aGaYkIKbZljkz1+Tj9c0XCw4ojn7zZ9nI/kadwoAz7DJyaiOI2KRLEuB0UDP5US2ySgCZElAOQrruGfWlcdjkl8638cSXr2V00MluQ3l27SEHIxnaD6Dp3rY1addR0i4tUhukMqYDSW7rgg55BGe1X2WWBWNvFA0hyVXOwepzjP54pUuyxWN0Hm5IYICwBAz1wMfjUpotu7TOZ0DWrnTLKPTr3TbnbDkRz25WRXXcevPHp36dq6Gz1Vb7cyWl2iDo80e0E+mCc/pilm82aaNA1zEF+ZmjjXafYk5x1/nzTxKsUZDCU9Adw5/Jc8f5NHMxNJu5zjRXOmeIZNVbTLmaKVGDJbASMjHbkgcFgTn04q5qssmreHir6fPFNKA0aMuWRtwHI6jg/kTnGK3slsfujg/3hgCoLkvGVbzI0iDDcWUkdfXOB9TSu7Dvd3OT0i4v5vDkultYGFI0kiEsu752Yk/KApzjd/nBxQ0zTNXsdQjl1G2LwwTB99owb5RkjK9c8AHgdc1362ysA/QkDoBkfQ44/PvTWiVAWMRLtxhVz+ZrKdJTkpNbDU9/Mw5/GNrYvKl9FJAwfbEoBZpPU8DaB0/iPfpiqnhzxLaazeXjWn2iNmCu4ng2jC5yQQxHOfXt3robqxiv42hu7VJYcgkTIjg9+hz05oSwjhQiMAvwoBIjAUdgUAOPatLyLvS5bJa+v/AG/armJ5N8ErIMbWQKQ3HPy5BznPHPT14qpLrU7yhLXRr6cEHLSqIlH4mti3UrHkqBx0Dblz7EdR+FV5ZJCx+aMEkfKyk4H9O/PSney1Mt2Zf9q63ghPDzcHvcL/hTE1LxHndJocSR/wB0XS7h/StGSdPJO9pG24J8pW3KD6KBnH4etOijaKNAss5i5YtNneO/JOMDtyCf50+cOUZHcX0rDzre1SMrkqJyzAn1G0D07+v4lJdW6y+TIs8cbx8Rl4g5I9Oefy/+vRUtjsX92xd2M0kFx5yBtuMjPX3I/pRRWlyLD45fM3cYxnvUmPc0UUCEKZPUj6Gqk9/9nlMXlFsbed3rRRQ3Ya1LC73kI3YAHYVl6lcHT4wN0svPVpSDz3yKKKiWxUdzQtk2RKN8jepZy2cn3qQDO4nG3sP8aKKOgluEe14kkC4JAPv+dOVEGRtGBRRVCEeQRkqF9OlIs25iu3GADnPrn/Ciik2x2GeZIxIBAHI6c9aah8wtvwyjI2noef8AP50UVF3cq2gh8wy/6zagGQqrj9f89afFMzopxgkdzmiinfULaE6nI5pk7ERkLgE8AkZx26UUVTehC3FQkxlSxzzzVYQD5sO4+YnhiD69euKKKTKQyS38tW2SuCcnJOf88f565HtwxVmkctkHPHb8KKKmxVxZI2Vc+Yx+tFFFFgTP/9k=' width='200' height='133' class=\"itemThumbnail\">\n",
       "                       </a>\n",
       "                    </div>\n",
       "\n",
       "                    <div class=\"item_right\"     style=\"float: none; width: auto; overflow: hidden;\">\n",
       "                        <a href='https://eagle-workshops.maps.arcgis.com/home/item.html?id=e58d4afce39a4c3aa4bc5100c60163ff' target='_blank'><b>Patrol Locations</b>\n",
       "                        </a>\n",
       "                        <br/>This dataset contains patrol locations throughout New Zealand and was created for use during a python and arcade workshop. <img src='https://eagle-workshops.maps.arcgis.com/home/js/jsapi/esri/css/images/item_type_icons/featureshosted16.png' style=\"vertical-align:middle;\">Feature Layer Collection by rjc_workshop\n",
       "                        <br/>Last Modified: August 20, 2019\n",
       "                        <br/>0 comments, 9 views\n",
       "                    </div>\n",
       "                </div>\n",
       "                "
      ],
      "text/plain": [
       "<Item title:\"Patrol Locations\" type:Feature Layer Collection owner:rjc_workshop>"
      ]
     },
     "metadata": {},
     "output_type": "display_data"
    }
   ],
   "source": [
    "displayItem = searchContent[0]\n",
    "display(displayItem)"
   ]
  },
  {
   "cell_type": "code",
   "execution_count": 6,
   "metadata": {},
   "outputs": [
    {
     "data": {
      "application/vnd.jupyter.widget-view+json": {
       "model_id": "f84a7114f18e472ba9b4440b224438fd",
       "version_major": 2,
       "version_minor": 0
      },
      "text/plain": [
       "MapView(layout=Layout(height='400px', width='100%'))"
      ]
     },
     "metadata": {},
     "output_type": "display_data"
    },
    {
     "data": {
      "text/html": [
       "<div class=\"map-static-img-preview-41c4eb31-b6fe-4049-9d9a-0b7ff1313552\"><img src=\"\"></img></div>"
      ],
      "text/plain": [
       "<IPython.core.display.HTML object>"
      ]
     },
     "metadata": {},
     "output_type": "display_data"
    }
   ],
   "source": [
    "#Create a new map object\n",
    "myMap = gis.map()\n",
    "#Focus the map to the part of the world containing the example item\n",
    "myMap.extent = displayItem.extent\n",
    "#Display the map\n",
    "myMap"
   ]
  },
  {
   "cell_type": "code",
   "execution_count": 7,
   "metadata": {},
   "outputs": [],
   "source": [
    "myMap.add_layer(displayItem)"
   ]
  },
  {
   "cell_type": "code",
   "execution_count": null,
   "metadata": {},
   "outputs": [],
   "source": []
  }
 ],
 "metadata": {
  "esriNotebookRuntime": {
   "notebookRuntimeName": "ArcGIS Notebook Python 3 Advanced",
   "notebookRuntimeVersion": "10.7.1"
  },
  "kernelspec": {
   "display_name": "Python 3",
   "language": "python",
   "name": "python3"
  },
  "language_info": {
   "codemirror_mode": {
    "name": "ipython",
    "version": 3
   },
   "file_extension": ".py",
   "mimetype": "text/x-python",
   "name": "python",
   "nbconvert_exporter": "python",
   "pygments_lexer": "ipython3",
   "version": "3.6.8"
  }
 },
 "nbformat": 4,
 "nbformat_minor": 2
}
