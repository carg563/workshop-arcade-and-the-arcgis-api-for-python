{
 "cells": [
  {
   "cell_type": "markdown",
   "metadata": {},
   "source": [
    "## Module 3\n",
    "# Removing Users from your Organisation"
   ]
  },
  {
   "cell_type": "markdown",
   "metadata": {},
   "source": [
    "Before you can remove a user from your Organisation you need to:\n",
    "* Remove all user items\n",
    "* Reassign group ownership\n",
    "* Remove user from all groups\n",
    "* Revoke all licenses"
   ]
  },
  {
   "cell_type": "code",
   "execution_count": 1,
   "metadata": {},
   "outputs": [],
   "source": [
    "# import the GIS Module\n",
    "from arcgis.gis import GIS"
   ]
  },
  {
   "cell_type": "code",
   "execution_count": 2,
   "metadata": {},
   "outputs": [
    {
     "name": "stdout",
     "output_type": "stream",
     "text": [
      "Logged in as rjc_workshop to Eagle Technology\n"
     ]
    }
   ],
   "source": [
    "# connect to GIS through a profile\n",
    "gis = GIS(profile='Workshop')\n",
    "print(\"Logged in as \" + gis.properties.user.username + \" to \" + gis.properties.name)"
   ]
  },
  {
   "cell_type": "markdown",
   "metadata": {},
   "source": [
    "### Get information about Users"
   ]
  },
  {
   "cell_type": "markdown",
   "metadata": {},
   "source": [
    "#### Search for group where all users are located"
   ]
  },
  {
   "cell_type": "code",
   "execution_count": 3,
   "metadata": {},
   "outputs": [
    {
     "data": {
      "text/html": [
       "<div class=\"9item_container\" style=\"height: auto; overflow: hidden; border: 1px solid #cfcfcf; border-radius: 2px; background: #f6fafa; line-height: 1.21429em; padding: 10px;\">\n",
       "                    <div class=\"item_left\" style=\"width: 210px; float: left;\">\n",
       "                       <a href='https://eagle-workshops.maps.arcgis.com/home/group.html?id=30e760285460458da3b42e809b3cf0cf' target='_blank'>\n",
       "                        <img src='data:image/png;base64,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' ' class=\"itemThumbnail\">\n",
       "                       </a>\n",
       "                    </div>\n",
       "\n",
       "                    <div class=\"item_right\" style=\"float: none; width: auto; overflow: hidden;\">\n",
       "                        <a href='https://eagle-workshops.maps.arcgis.com/home/group.html?id=30e760285460458da3b42e809b3cf0cf' target='_blank'><b>Administration Group</b>\n",
       "                        </a>\n",
       "                        <br/>\n",
       "                        <br/><b>Summary</b>: For the purposes of administration of temporary workshop users in the organisation\n",
       "                        <br/><b>Description</b>: None\n",
       "                        <br/><b>Owner</b>: rjc_workshop\n",
       "                        <br/><b>Created</b>: August 20, 2019\n",
       "\n",
       "                    </div>\n",
       "                </div>\n",
       "                "
      ],
      "text/plain": [
       "<Group title:\"Administration Group\" owner:rjc_workshop>"
      ]
     },
     "metadata": {},
     "output_type": "display_data"
    }
   ],
   "source": [
    "# create a list of the groups that these users will be added too\n",
    "myGroups = gis.groups.search('30e760285460458da3b42e809b3cf0cf')\n",
    "\n",
    "# pull out the first group in the list\n",
    "myGroup = myGroups[0]\n",
    "\n",
    "# display the group with icon\n",
    "display (myGroup)"
   ]
  },
  {
   "cell_type": "markdown",
   "metadata": {},
   "source": [
    "#### Display a list of all the usernames found"
   ]
  },
  {
   "cell_type": "code",
   "execution_count": 4,
   "metadata": {},
   "outputs": [
    {
     "name": "stdout",
     "output_type": "stream",
     "text": [
      "0 usernames found\n",
      "[]\n"
     ]
    }
   ],
   "source": [
    "myMembers = myGroup.get_members()\n",
    "myUsers = myMembers['users']\n",
    "\n",
    "print (\"{0} usernames found\".format(len(myUsers)))\n",
    "print (myUsers)"
   ]
  },
  {
   "cell_type": "markdown",
   "metadata": {},
   "source": [
    "#### Create a user 'object' for all the usernames found"
   ]
  },
  {
   "cell_type": "code",
   "execution_count": 5,
   "metadata": {},
   "outputs": [],
   "source": [
    "# create empty list for all user objects\n",
    "workshopUsers = []\n",
    "\n",
    "# create a user object for all usernames gathered\n",
    "for username in myUsers:\n",
    "    user = gis.users.get(username=username)\n",
    "    workshopUsers.append(user)\n",
    "    print (\"{0}, has been configured\".format(username))"
   ]
  },
  {
   "cell_type": "markdown",
   "metadata": {},
   "source": [
    "### Exploring User Properties"
   ]
  },
  {
   "cell_type": "code",
   "execution_count": null,
   "metadata": {},
   "outputs": [],
   "source": [
    "# iterate through returned list of users and explore their content\n",
    "for user in workshopUsers:\n",
    "    \n",
    "    userName = user.username\n",
    "    groupCount = str(len(user.groups))\n",
    "    folderCount = str(len(user.folders))\n",
    "    itemCount = str(len(user.items()))\n",
    "    \n",
    "    print(\"{0}, Group Count ({1}), FolderCount ({2}), Item Count ({3})\".format(userName, groupCount, folderCount, itemCount)) "
   ]
  },
  {
   "cell_type": "markdown",
   "metadata": {},
   "source": [
    "### Reassign User Content"
   ]
  },
  {
   "cell_type": "code",
   "execution_count": null,
   "metadata": {},
   "outputs": [],
   "source": [
    "# define the user that content will be migrated too\n",
    "myID = gis.users.me.username\n",
    "display(myID)"
   ]
  },
  {
   "cell_type": "markdown",
   "metadata": {},
   "source": [
    "#### Reassign Items"
   ]
  },
  {
   "cell_type": "code",
   "execution_count": null,
   "metadata": {},
   "outputs": [],
   "source": [
    "# loop through list of users\n",
    "for user in workshopUsers:\n",
    "    \n",
    "    # create list of items owned by the user\n",
    "    userItems = user.items()\n",
    "    \n",
    "    #loop through this of items\n",
    "    for item in userItems:\n",
    "        \n",
    "        # reassign items to another user\n",
    "        item.reassign_to(myID)\n",
    "        print(\"Item ({0}) reassigned to owner {1}\".format(item['title'],myID))"
   ]
  },
  {
   "cell_type": "markdown",
   "metadata": {},
   "source": [
    "#### Reassign Groups and Remove Users from Groups"
   ]
  },
  {
   "cell_type": "code",
   "execution_count": null,
   "metadata": {},
   "outputs": [],
   "source": [
    "# loop through list of users\n",
    "for user in workshopUsers:\n",
    "    \n",
    "    # create list of groups user is a member of or owns\n",
    "    userGroups = user.groups\n",
    "    \n",
    "    # loop through group list\n",
    "    for group in userGroups:\n",
    "        \n",
    "        # user is owner of the group\n",
    "        if group.owner == user.username:\n",
    "            \n",
    "            # reassign group to another user\n",
    "            group.reassign_to(myID)\n",
    "            print(\"Group ({0}) reassigned to owner {1}\".format(group['title'],myID))\n",
    "            \n",
    "        # user is not the owner of the group\n",
    "        else:\n",
    "            \n",
    "            # remove the user from the group\n",
    "            group.remove_users(user.username)\n",
    "            print(\"{0} has been removed from group {1}\".format(user.username, group['title']))"
   ]
  },
  {
   "cell_type": "markdown",
   "metadata": {},
   "source": [
    "#### Revoke user licenses"
   ]
  },
  {
   "cell_type": "code",
   "execution_count": null,
   "metadata": {},
   "outputs": [],
   "source": [
    "# create a list of all license objects\n",
    "myLicenses = gis.admin.license.all()\n",
    "\n",
    "# loop through list of users\n",
    "for user in workshopUsers:\n",
    "    \n",
    "    # loop through all license objects\n",
    "    for l in myLicenses:\n",
    "        \n",
    "        # admin tools is a default entitlement of all ArcGIS Online users and we cannot revoke it\n",
    "        if l.properties['listing']['title'] != 'Admin Tools for ArcGIS\\u2120 Online':\n",
    "        \n",
    "            # revoke all license object for each user\n",
    "            l.revoke(username=user.username, entitlements='*')\n",
    "            \n",
    "            # print statement stating that we successfully revoked this license\n",
    "            print (\"{0} has had been removed from {1}\".format(l.properties.listing[\"title\"], user.username))"
   ]
  },
  {
   "cell_type": "markdown",
   "metadata": {},
   "source": [
    "### Delete Users"
   ]
  },
  {
   "cell_type": "markdown",
   "metadata": {},
   "source": [
    "Finally we can loop through our list of users and remove them from our organisation by calling the .delete() function on our user objects"
   ]
  },
  {
   "cell_type": "code",
   "execution_count": null,
   "metadata": {},
   "outputs": [],
   "source": [
    "# loop through list of users\n",
    "for user in workshopUsers:\n",
    "    \n",
    "    user.delete()\n",
    "    print (\"{0} has been removed from this organisation\".format(user.username))"
   ]
  }
 ],
 "metadata": {
  "esriNotebookRuntime": {
   "notebookRuntimeName": "ArcGIS Notebook Python 3 Advanced",
   "notebookRuntimeVersion": "10.7.1"
  },
  "kernelspec": {
   "display_name": "Python 3",
   "language": "python",
   "name": "python3"
  },
  "language_info": {
   "codemirror_mode": {
    "name": "ipython",
    "version": 3
   },
   "file_extension": ".py",
   "mimetype": "text/x-python",
   "name": "python",
   "nbconvert_exporter": "python",
   "pygments_lexer": "ipython3",
   "version": "3.6.8"
  }
 },
 "nbformat": 4,
 "nbformat_minor": 2
}
