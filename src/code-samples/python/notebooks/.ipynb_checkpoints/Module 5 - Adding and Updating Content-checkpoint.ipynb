{
 "cells": [
  {
   "cell_type": "markdown",
   "metadata": {},
   "source": [
    "## Module 6\n",
    "# Adding and Updating Content"
   ]
  },
  {
   "cell_type": "code",
   "execution_count": 1,
   "metadata": {},
   "outputs": [
    {
     "name": "stdout",
     "output_type": "stream",
     "text": [
      "Logged in as ryan_cooper@eagle.co.nz to ArcGIS Enterprise\n"
     ]
    }
   ],
   "source": [
    "from arcgis.gis import GIS\n",
    "gis = GIS(\"home\")\n",
    "print(\"Logged in as \" + gis.properties.user.username + \" to \" + gis.properties.name)"
   ]
  },
  {
   "cell_type": "markdown",
   "metadata": {},
   "source": [
    "### Import Content Manager"
   ]
  },
  {
   "cell_type": "code",
   "execution_count": 2,
   "metadata": {},
   "outputs": [],
   "source": [
    "# import the Content Manager class in gis module\n",
    "from arcgis.gis import ContentManager\n",
    "\n",
    "# define ContentManager\n",
    "cm = ContentManager(gis)"
   ]
  },
  {
   "cell_type": "markdown",
   "metadata": {},
   "source": [
    "### Explore Content "
   ]
  },
  {
   "cell_type": "markdown",
   "metadata": {},
   "source": [
    "#### from a Notebook server\n"
   ]
  },
  {
   "cell_type": "code",
   "execution_count": 39,
   "metadata": {},
   "outputs": [
    {
     "data": {
      "text/html": [
       "<div class=\"item_container\" style=\"height: auto; overflow: hidden; border: 1px solid #cfcfcf; border-radius: 2px; background: #f6fafa; line-height: 1.21429em; padding: 10px;\">\n",
       "                    <div class=\"item_left\" style=\"width: 210px; float: left;\">\n",
       "                       <a href='https://enterprise.cloud.eaglegis.co.nz/portal/home/item.html?id=2769a1dfeefc43f5996b7c2d11705d4e' target='_blank'>\n",
       "                        <img src='data:image/png;base64,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' width='200' height='133' class=\"itemThumbnail\">\n",
       "                       </a>\n",
       "                    </div>\n",
       "\n",
       "                    <div class=\"item_right\"     style=\"float: none; width: auto; overflow: hidden;\">\n",
       "                        <a href='https://enterprise.cloud.eaglegis.co.nz/portal/home/item.html?id=2769a1dfeefc43f5996b7c2d11705d4e' target='_blank'><b>Patrol Information RJC</b>\n",
       "                        </a>\n",
       "                        <br/>Patrol Information for RJC<img src='https://enterprise.cloud.eaglegis.co.nz/portal/home/js/jsapi/esri/css/images/item_type_icons/featureshosted16.png' style=\"vertical-align:middle;\">Feature Layer Collection by ryan_cooper@eagle.co.nz\n",
       "                        <br/>Last Modified: August 11, 2019\n",
       "                        <br/>0 comments, 3 views\n",
       "                    </div>\n",
       "                </div>\n",
       "                "
      ],
      "text/plain": [
       "<Item title:\"Patrol Information RJC\" type:Feature Layer Collection owner:ryan_cooper@eagle.co.nz>"
      ]
     },
     "execution_count": 39,
     "metadata": {},
     "output_type": "execute_result"
    }
   ],
   "source": [
    "# Item Added From Toolbar\n",
    "# Title: Patrol Information RJC | Type: Feature Service | Owner: ryan_cooper@eagle.co.nz\n",
    "item = gis.content.get(\"2769a1dfeefc43f5996b7c2d11705d4e\")\n",
    "item"
   ]
  },
  {
   "cell_type": "code",
   "execution_count": 40,
   "metadata": {},
   "outputs": [
    {
     "name": "stdout",
     "output_type": "stream",
     "text": [
      "<FeatureLayer url:\"https://enterprise.cloud.eaglegis.co.nz/server/rest/services/Hosted/Patrol_Information_RJC/FeatureServer/0\">\n"
     ]
    }
   ],
   "source": [
    "# pull out the desired layer of the feature service\n",
    "layer = item.layers[0]\n",
    "print (layer)"
   ]
  },
  {
   "cell_type": "code",
   "execution_count": null,
   "metadata": {},
   "outputs": [],
   "source": [
    "# layer.properties.ispublic?"
   ]
  },
  {
   "cell_type": "code",
   "execution_count": 41,
   "metadata": {},
   "outputs": [
    {
     "name": "stdout",
     "output_type": "stream",
     "text": [
      "{\n",
      "  \"wkid\": 4326,\n",
      "  \"latestWkid\": 4326,\n",
      "  \"xyTolerance\": 8.983152841195215e-09,\n",
      "  \"zTolerance\": 0.001,\n",
      "  \"mTolerance\": 0.001,\n",
      "  \"falseX\": -400,\n",
      "  \"falseY\": -400,\n",
      "  \"xyUnits\": 999999999.9999999,\n",
      "  \"falseZ\": -100000,\n",
      "  \"zUnits\": 10000,\n",
      "  \"falseM\": -100000,\n",
      "  \"mUnits\": 10000\n",
      "}\n"
     ]
    }
   ],
   "source": [
    "# get the properties of the layer\n",
    "print (layer.properties.extent.spatialReference)"
   ]
  },
  {
   "cell_type": "code",
   "execution_count": 42,
   "metadata": {},
   "outputs": [
    {
     "name": "stdout",
     "output_type": "stream",
     "text": [
      "{\"features\": [{\"geometry\": {\"x\": 174.65403600000002, \"y\": -37.283477999999945}, \"attributes\": {\"objectid\": 14, \"id\": 14, \"beach\": \"Kariaotahi\", \"patrol\": \"Patrolled by Kariaotahi SLSC.\", \"longitude\": 174.654036, \"latitude\": -37.283478, \"vistors\": 350, \"rescues\": 8, \"minor\": 7, \"major\": 0, \"cpr\": 0, \"casualties\": 0}}, {\"geometry\": {\"x\": 174.7525690000001, \"y\": -36.68886299999997}, \"attributes\": {\"objectid\": 16, \"id\": 16, \"beach\": \"Long Bay\", \"patrol\": \"Patrolled by Regional Guards.\", \"longitude\": 174.752569, \"latitude\": -36.688863, \"vistors\": 1110, \"rescues\": 8, \"minor\": 5, \"major\": 1, \"cpr\": 0, \"casualties\": 0}}, {\"geometry\": {\"x\": 174.7948520000001, \"y\": -41.33000899999996}, \"attributes\": {\"objectid\": 17, \"id\": 17, \"beach\": \"Lyall Bay\", \"patrol\": \"Patrolled by Lyall Bay SLSC.\", \"longitude\": 174.794852, \"latitude\": -41.330009, \"vistors\": 1470, \"rescues\": 14, \"minor\": 4, \"major\": 8, \"cpr\": 7, \"casualties\": 0}}, {\"geometry\": {\"x\": 176.1833670000001, \"y\": -37.63292599999994}, \"attributes\": {\"objectid\": 18, \"id\": 18, \"beach\": \"Main Mt. Maunganui\", \"patrol\": \"Patrolled by Mt. Maunganui SLSC.\", \"longitude\": 176.183367, \"latitude\": -37.632926, \"vistors\": 720, \"rescues\": 13, \"minor\": 0, \"major\": 0, \"cpr\": 0, \"casualties\": 0}}, {\"geometry\": {\"x\": 174.75677500000006, \"y\": -36.73926199999994}, \"attributes\": {\"objectid\": 19, \"id\": 19, \"beach\": \"Mairangi Bay\", \"patrol\": \"Patrolled by Mairangi Bay SLSC.\", \"longitude\": 174.756775, \"latitude\": -36.739262, \"vistors\": 1710, \"rescues\": 11, \"minor\": 1, \"major\": 0, \"cpr\": 0, \"casualties\": 0}}, {\"geometry\": {\"x\": 176.45620100000008, \"y\": -37.75464999999997}, \"attributes\": {\"objectid\": 20, \"id\": 20, \"beach\": \"Maketu\", \"patrol\": \"Patrolled by Maketu SLSC.\", \"longitude\": 176.456201, \"latitude\": -37.75465, \"vistors\": 70, \"rescues\": 7, \"minor\": 3, \"major\": 0, \"cpr\": 0, \"casualties\": 0}}, {\"geometry\": {\"x\": 174.59861000000012, \"y\": -36.08151699999996}, \"attributes\": {\"objectid\": 21, \"id\": 21, \"beach\": \"Mangawhai Heads\", \"patrol\": \"Patrolled by Mangawhai Heads SLSC.\", \"longitude\": 174.59861, \"latitude\": -36.081517, \"vistors\": 70, \"rescues\": 3, \"minor\": 0, \"major\": 0, \"cpr\": 0, \"casualties\": 0}}, {\"geometry\": {\"x\": 176.92067400000008, \"y\": -39.48705199999995}, \"attributes\": {\"objectid\": 22, \"id\": 22, \"beach\": \"Marine Parade Napier\", \"patrol\": \"Patrolled by Pacific SLSC.\", \"longitude\": 176.920674, \"latitude\": -39.487052, \"vistors\": 930, \"rescues\": 9, \"minor\": 6, \"major\": 0, \"cpr\": 0, \"casualties\": 0}}, {\"geometry\": {\"x\": 173.13474700000006, \"y\": -35.17643899999996}, \"attributes\": {\"objectid\": 1, \"id\": 1, \"beach\": \"Ahipara\", \"patrol\": \"Patrolled by Far North SLSC.\", \"longitude\": 173.134747, \"latitude\": -35.176439, \"vistors\": 40, \"rescues\": 1, \"minor\": 0, \"major\": 0, \"cpr\": 0, \"casualties\": 0}}, {\"geometry\": {\"x\": 173.74337200000002, \"y\": -35.95380499999993}, \"attributes\": {\"objectid\": 2, \"id\": 2, \"beach\": \"Baylys\", \"patrol\": \"Patrolled by Regional Guards.\", \"longitude\": 173.743372, \"latitude\": -35.953805, \"vistors\": 30, \"rescues\": 1, \"minor\": 0, \"major\": 0, \"cpr\": 0, \"casualties\": 0}}, {\"geometry\": {\"x\": 174.4442650000001, \"y\": -36.89465499999994}, \"attributes\": {\"objectid\": 3, \"id\": 3, \"beach\": \"Bethells\", \"patrol\": \"Patrolled by Bethells Beach SLSC.\", \"longitude\": 174.444265, \"latitude\": -36.894655, \"vistors\": 140, \"rescues\": 5, \"minor\": 4, \"major\": 0, \"cpr\": 0, \"casualties\": 0}}, {\"geometry\": {\"x\": 170.32903800000008, \"y\": -45.95046299999996}, \"attributes\": {\"objectid\": 4, \"id\": 4, \"beach\": \"Brighton\", \"patrol\": \"Patrolled by Brighton SLSC.\", \"longitude\": 170.329038, \"latitude\": -45.950463, \"vistors\": 620, \"rescues\": 16, \"minor\": 2, \"major\": 0, \"cpr\": 0, \"casualties\": 0}}, {\"geometry\": {\"x\": 174.75038100000006, \"y\": -36.712793999999974}, \"attributes\": {\"objectid\": 5, \"id\": 5, \"beach\": \"Browns Bay\", \"patrol\": \"Patrolled by Regional Guards.\", \"longitude\": 174.750381, \"latitude\": -36.712794, \"vistors\": 1010, \"rescues\": 13, \"minor\": 8, \"major\": 4, \"cpr\": 2, \"casualties\": 0}}, {\"geometry\": {\"x\": 174.97561100000007, \"y\": -39.939701999999954}, \"attributes\": {\"objectid\": 6, \"id\": 6, \"beach\": \"Castlecliff\", \"patrol\": \"Patrolled by Wanganui SLS.\", \"longitude\": 174.975611, \"latitude\": -39.939702, \"vistors\": 340, \"rescues\": 13, \"minor\": 1, \"major\": 3, \"cpr\": 0, \"casualties\": 0}}, {\"geometry\": {\"x\": 174.09246700000006, \"y\": -39.04844399999996}, \"attributes\": {\"objectid\": 7, \"id\": 7, \"beach\": \"East end\", \"patrol\": \"Patrolled by East End SLSC.\", \"longitude\": 174.092467, \"latitude\": -39.048444, \"vistors\": 340, \"rescues\": 10, \"minor\": 9, \"major\": 0, \"cpr\": 0, \"casualties\": 0}}, {\"geometry\": {\"x\": 174.09716600000002, \"y\": -39.04569399999997}, \"attributes\": {\"objectid\": 8, \"id\": 8, \"beach\": \"Fitzroy\", \"patrol\": \"Patrolled by Fitzroy SLSC.\", \"longitude\": 174.097166, \"latitude\": -39.045694, \"vistors\": 690, \"rescues\": 11, \"minor\": 9, \"major\": 2, \"cpr\": 0, \"casualties\": 0}}, {\"geometry\": {\"x\": 175.21545400000002, \"y\": -40.458196999999984}, \"attributes\": {\"objectid\": 9, \"id\": 9, \"beach\": \"Foxton\", \"patrol\": \"Patrolled by Foxton SLSC.\", \"longitude\": 175.215454, \"latitude\": -40.458197, \"vistors\": 130, \"rescues\": 4, \"minor\": 3, \"major\": 0, \"cpr\": 0, \"casualties\": 0}}, {\"geometry\": {\"x\": 175.2283500000001, \"y\": -40.370146999999974}, \"attributes\": {\"objectid\": 10, \"id\": 10, \"beach\": \"Himatangi\", \"patrol\": \"Patrolled by Palmerston North SLSC.\", \"longitude\": 175.22835, \"latitude\": -40.370147, \"vistors\": 50, \"rescues\": 1, \"minor\": 0, \"major\": 0, \"cpr\": 0, \"casualties\": 0}}, {\"geometry\": {\"x\": 175.82332800000006, \"y\": -36.88787599999995}, \"attributes\": {\"objectid\": 11, \"id\": 11, \"beach\": \"Hot Water\", \"patrol\": \"Patrolled by Hot Water Beach SLSC.\", \"longitude\": 175.823328, \"latitude\": -36.887876, \"vistors\": 20, \"rescues\": 1, \"minor\": 0, \"major\": 0, \"cpr\": 0, \"casualties\": 0}}, {\"geometry\": {\"x\": 169.78308000000004, \"y\": -46.38552899999996}, \"attributes\": {\"objectid\": 12, \"id\": 12, \"beach\": \"Kaka Point\", \"patrol\": \"Patrolled by Kaka Point SLSC.\", \"longitude\": 169.78308, \"latitude\": -46.385529, \"vistors\": 30, \"rescues\": 2, \"minor\": 0, \"major\": 0, \"cpr\": 0, \"casualties\": 0}}, {\"geometry\": {\"x\": 174.47323300000005, \"y\": -36.98952799999995}, \"attributes\": {\"objectid\": 13, \"id\": 13, \"beach\": \"Karekare\", \"patrol\": \"Patrolled by KareKare SLSC.\", \"longitude\": 174.473233, \"latitude\": -36.989528, \"vistors\": 70, \"rescues\": 2, \"minor\": 1, \"major\": 0, \"cpr\": 0, \"casualties\": 0}}, {\"geometry\": {\"x\": 171.18348200000003, \"y\": -42.47257199999996}, \"attributes\": {\"objectid\": 15, \"id\": 15, \"beach\": \"Karoro\", \"patrol\": \"Patrolled by Kotuku SLSC.\", \"longitude\": 171.183482, \"latitude\": -42.472572, \"vistors\": 150, \"rescues\": 7, \"minor\": 0, \"major\": 0, \"cpr\": 0, \"casualties\": 0}}, {\"geometry\": {\"x\": 174.82887300000004, \"y\": -37.819072999999946}, \"attributes\": {\"objectid\": 28, \"id\": 28, \"beach\": \"Ngarunui\", \"patrol\": \"Patrolled by Raglan SLSC.\", \"longitude\": 174.828873, \"latitude\": -37.819073, \"vistors\": 130, \"rescues\": 4, \"minor\": 3, \"major\": 0, \"cpr\": 0, \"casualties\": 0}}, {\"geometry\": {\"x\": 172.7273510000001, \"y\": -43.49396599999994}, \"attributes\": {\"objectid\": 29, \"id\": 29, \"beach\": \"North\", \"patrol\": \"Patrolled by North Beach SLSC.\", \"longitude\": 172.727351, \"latitude\": -43.493966, \"vistors\": 1460, \"rescues\": 13, \"minor\": 3, \"major\": 3, \"cpr\": 3, \"casualties\": 0}}, {\"geometry\": {\"x\": 173.9466940000001, \"y\": -39.11558999999994}, \"attributes\": {\"objectid\": 30, \"id\": 30, \"beach\": \"Oakura\", \"patrol\": \"Patrolled by New Plymouth Old Boys SLSC.\", \"longitude\": 173.946694, \"latitude\": -39.11559, \"vistors\": 330, \"rescues\": 11, \"minor\": 0, \"major\": 0, \"cpr\": 0, \"casualties\": 0}}, {\"geometry\": {\"x\": 177.0118050000001, \"y\": -39.742437999999936}, \"attributes\": {\"objectid\": 31, \"id\": 31, \"beach\": \"Ocean\", \"patrol\": \"Patrolled by Ocean Beach Kiwi SLSC.\", \"longitude\": 177.011805, \"latitude\": -39.742438, \"vistors\": 30, \"rescues\": 1, \"minor\": 0, \"major\": 0, \"cpr\": 0, \"casualties\": 0}}, {\"geometry\": {\"x\": 177.0361620000001, \"y\": -37.962988999999936}, \"attributes\": {\"objectid\": 32, \"id\": 32, \"beach\": \"Ohope\", \"patrol\": \"Patrolled by Whakatane SLSC.\", \"longitude\": 177.036162, \"latitude\": -37.962989, \"vistors\": 200, \"rescues\": 10, \"minor\": 5, \"major\": 1, \"cpr\": 0, \"casualties\": 0}}, {\"geometry\": {\"x\": 174.78096300000004, \"y\": -36.33952599999998}, \"attributes\": {\"objectid\": 33, \"id\": 33, \"beach\": \"Omaha\", \"patrol\": \"Patrolled by Omaha SLSC.\", \"longitude\": 174.780963, \"latitude\": -36.339526, \"vistors\": 100, \"rescues\": 6, \"minor\": 1, \"major\": 5, \"cpr\": 5, \"casualties\": 0}}, {\"geometry\": {\"x\": 176.21611700000005, \"y\": -37.65833699999996}, \"attributes\": {\"objectid\": 34, \"id\": 34, \"beach\": \"Omanu\", \"patrol\": \"Patrolled by Omanu SLSC.\", \"longitude\": 176.216117, \"latitude\": -37.658337, \"vistors\": 650, \"rescues\": 10, \"minor\": 6, \"major\": 1, \"cpr\": 0, \"casualties\": 0}}, {\"geometry\": {\"x\": 178.0051820000001, \"y\": -38.67081499999995}, \"attributes\": {\"objectid\": 23, \"id\": 23, \"beach\": \"Midway\", \"patrol\": \"Patrolled by Midway SLSC.\", \"longitude\": 178.005182, \"latitude\": -38.670815, \"vistors\": 680, \"rescues\": 20, \"minor\": 5, \"major\": 2, \"cpr\": 0, \"casualties\": 0}}, {\"geometry\": {\"x\": 174.7675250000001, \"y\": -36.765566999999976}, \"attributes\": {\"objectid\": 24, \"id\": 24, \"beach\": \"Milford\", \"patrol\": \"Patrolled by Regional Guards.\", \"longitude\": 174.767525, \"latitude\": -36.765567, \"vistors\": 1820, \"rescues\": 11, \"minor\": 1, \"major\": 1, \"cpr\": 1, \"casualties\": 0}}, {\"geometry\": {\"x\": 174.90162500000008, \"y\": -39.88635199999993}, \"attributes\": {\"objectid\": 25, \"id\": 25, \"beach\": \"Mowhanau\", \"patrol\": \"Patrolled by Wanganui SLS.\", \"longitude\": 174.901625, \"latitude\": -39.886352, \"vistors\": 60, \"rescues\": 4, \"minor\": 1, \"major\": 3, \"cpr\": 2, \"casualties\": 0}}, {\"geometry\": {\"x\": 174.42576900000006, \"y\": -36.82805999999994}, \"attributes\": {\"objectid\": 26, \"id\": 26, \"beach\": \"Muriwai\", \"patrol\": \"Patrolled by Muriwai Lifeguard Service.\", \"longitude\": 174.425769, \"latitude\": -36.82806, \"vistors\": 220, \"rescues\": 6, \"minor\": 3, \"major\": 0, \"cpr\": 0, \"casualties\": 0}}, {\"geometry\": {\"x\": 172.7306400000001, \"y\": -43.50398599999994}, \"attributes\": {\"objectid\": 27, \"id\": 27, \"beach\": \"New Brighton\", \"patrol\": \"Patrolled by New Brighton SLSC.\", \"longitude\": 172.73064, \"latitude\": -43.503986, \"vistors\": 1460, \"rescues\": 11, \"minor\": 10, \"major\": 0, \"cpr\": 0, \"casualties\": 0}}, {\"geometry\": {\"x\": 175.88025600000003, \"y\": -37.15186799999998}, \"attributes\": {\"objectid\": 35, \"id\": 35, \"beach\": \"Onemana\", \"patrol\": \"Patrolled by Onemana Beach Community Rescue Service.\", \"longitude\": 175.880256, \"latitude\": -37.151868, \"vistors\": 60, \"rescues\": 5, \"minor\": 3, \"major\": 1, \"cpr\": 0, \"casualties\": 0}}, {\"geometry\": {\"x\": 173.85650800000008, \"y\": -39.458429999999964}, \"attributes\": {\"objectid\": 36, \"id\": 36, \"beach\": \"Opunake\", \"patrol\": \"Patrolled by Opunake SLSC.\", \"longitude\": 173.856508, \"latitude\": -39.45843, \"vistors\": 30, \"rescues\": 3, \"minor\": 1, \"major\": 0, \"cpr\": 0, \"casualties\": 0}}, {\"geometry\": {\"x\": 168.23070300000006, \"y\": -46.439246999999966}, \"attributes\": {\"objectid\": 37, \"id\": 37, \"beach\": \"Oreti\", \"patrol\": \"Patrolled by Oreti SLSC.\", \"longitude\": 168.230703, \"latitude\": -46.439247, \"vistors\": 190, \"rescues\": 8, \"minor\": 4, \"major\": 0, \"cpr\": 0, \"casualties\": 0}}, {\"geometry\": {\"x\": 174.70006200000012, \"y\": -36.59287599999993}, \"attributes\": {\"objectid\": 38, \"id\": 38, \"beach\": \"Orewa\", \"patrol\": \"Patrolled by Orewa SLSC.\", \"longitude\": 174.700062, \"latitude\": -36.592876, \"vistors\": 900, \"rescues\": 12, \"minor\": 6, \"major\": 5, \"cpr\": 1, \"casualties\": 0}}, {\"geometry\": {\"x\": 174.79353200000003, \"y\": -41.29106099999996}, \"attributes\": {\"objectid\": 39, \"id\": 39, \"beach\": \"Oriental Bay\", \"patrol\": \"Patrolled by Maranui SLSC.\", \"longitude\": 174.793532, \"latitude\": -41.291061, \"vistors\": 660, \"rescues\": 9, \"minor\": 0, \"major\": 0, \"cpr\": 0, \"casualties\": 0}}, {\"geometry\": {\"x\": 175.1155900000001, \"y\": -40.73680299999995}, \"attributes\": {\"objectid\": 40, \"id\": 40, \"beach\": \"Otaki\", \"patrol\": \"Patrolled by Otaki SLSC.\", \"longitude\": 175.11559, \"latitude\": -40.736803, \"vistors\": 290, \"rescues\": 9, \"minor\": 8, \"major\": 0, \"cpr\": 0, \"casualties\": 0}}, {\"geometry\": {\"x\": 174.95874500000002, \"y\": -40.974162999999976}, \"attributes\": {\"objectid\": 41, \"id\": 41, \"beach\": \"Paekakariki\", \"patrol\": \"Patrolled by Paekakariki SLSC.\", \"longitude\": 174.958745, \"latitude\": -40.974163, \"vistors\": 350, \"rescues\": 16, \"minor\": 4, \"major\": 5, \"cpr\": 0, \"casualties\": 0}}, {\"geometry\": {\"x\": 174.7275820000001, \"y\": -36.24467999999996}, \"attributes\": {\"objectid\": 42, \"id\": 42, \"beach\": \"Pakiri\", \"patrol\": \"Patrolled by Regional Guards.\", \"longitude\": 174.727582, \"latitude\": -36.24468, \"vistors\": 40, \"rescues\": 2, \"minor\": 0, \"major\": 0, \"cpr\": 0, \"casualties\": 0}}, {\"geometry\": {\"x\": 176.28700700000002, \"y\": -37.69645399999996}, \"attributes\": {\"objectid\": 43, \"id\": 43, \"beach\": \"Papamoa\", \"patrol\": \"Patrolled by Papamoa SLSC.\", \"longitude\": 176.287007, \"latitude\": -37.696454, \"vistors\": 470, \"rescues\": 10, \"minor\": 0, \"major\": 0, \"cpr\": 0, \"casualties\": 0}}, {\"geometry\": {\"x\": 175.8678960000001, \"y\": -37.017570999999975}, \"attributes\": {\"objectid\": 44, \"id\": 44, \"beach\": \"Pauanui\", \"patrol\": \"Patrolled by Pauanui SLSC.\", \"longitude\": 175.867896, \"latitude\": -37.017571, \"vistors\": 80, \"rescues\": 2, \"minor\": 0, \"major\": 0, \"cpr\": 0, \"casualties\": 0}}, {\"geometry\": {\"x\": 174.46413500000006, \"y\": -36.943649999999934}, \"attributes\": {\"objectid\": 45, \"id\": 45, \"beach\": \"Piha (North)\", \"patrol\": \"Patrolled by United North Piha SLSC.\", \"longitude\": 174.464135, \"latitude\": -36.94365, \"vistors\": 1100, \"rescues\": 14, \"minor\": 0, \"major\": 0, \"cpr\": 0, \"casualties\": 0}}, {\"geometry\": {\"x\": 174.46791200000007, \"y\": -36.95666499999993}, \"attributes\": {\"objectid\": 46, \"id\": 46, \"beach\": \"Piha (South)\", \"patrol\": \"Patrolled by Piha SLSC.\", \"longitude\": 174.467912, \"latitude\": -36.956665, \"vistors\": 500, \"rescues\": 4, \"minor\": 3, \"major\": 1, \"cpr\": 1, \"casualties\": 0}}, {\"geometry\": {\"x\": 176.4840690000001, \"y\": -37.76000299999998}, \"attributes\": {\"objectid\": 47, \"id\": 47, \"beach\": \"Pukehina\", \"patrol\": \"Patrolled by Pukehina Surf Rescue.\", \"longitude\": 176.484069, \"latitude\": -37.760003, \"vistors\": 120, \"rescues\": 3, \"minor\": 0, \"major\": 0, \"cpr\": 0, \"casualties\": 0}}, {\"geometry\": {\"x\": 174.7080870000001, \"y\": -36.60226499999993}, \"attributes\": {\"objectid\": 48, \"id\": 48, \"beach\": \"Red\", \"patrol\": \"Patrolled by Red Beach SLSC.\", \"longitude\": 174.708087, \"latitude\": -36.602265, \"vistors\": 1360, \"rescues\": 13, \"minor\": 11, \"major\": 1, \"cpr\": 0, \"casualties\": 0}}, {\"geometry\": {\"x\": 176.0755630000001, \"y\": -41.08695299999994}, \"attributes\": {\"objectid\": 49, \"id\": 49, \"beach\": \"Riversdale\", \"patrol\": \"Patrolled by Riversdale SLSC.\", \"longitude\": 176.075563, \"latitude\": -41.086953, \"vistors\": 20, \"rescues\": 4, \"minor\": 1, \"major\": 3, \"cpr\": 3, \"casualties\": 0}}, {\"geometry\": {\"x\": 174.46171000000004, \"y\": -35.90919599999995}, \"attributes\": {\"objectid\": 50, \"id\": 50, \"beach\": \"Ruakaka\", \"patrol\": \"Patrolled by Ruakaka SLSC\", \"longitude\": 174.46171, \"latitude\": -35.909196, \"vistors\": 90, \"rescues\": 5, \"minor\": 2, \"major\": 1, \"cpr\": 0, \"casualties\": 0}}, {\"geometry\": {\"x\": 172.73810100000003, \"y\": -43.52190099999996}, \"attributes\": {\"objectid\": 51, \"id\": 51, \"beach\": \"South Brighton\", \"patrol\": \"Patrolled by South Brighton SLSC.\", \"longitude\": 172.738101, \"latitude\": -43.521901, \"vistors\": 1570, \"rescues\": 15, \"minor\": 0, \"major\": 0, \"cpr\": 0, \"casualties\": 0}}, {\"geometry\": {\"x\": 172.713747, \"y\": -43.432275999999945}, \"attributes\": {\"objectid\": 52, \"id\": 52, \"beach\": \"Spencer Park\", \"patrol\": \"Patrolled by Spencer Park SLSC.\", \"longitude\": 172.713747, \"latitude\": -43.432276, \"vistors\": 1980, \"rescues\": 10, \"minor\": 9, \"major\": 1, \"cpr\": 1, \"casualties\": 0}}, {\"geometry\": {\"x\": 170.49143500000002, \"y\": -45.91145099999994}, \"attributes\": {\"objectid\": 53, \"id\": 53, \"beach\": \"St Clair\", \"patrol\": \"Patrolled by St Clair SLSC.\", \"longitude\": 170.491435, \"latitude\": -45.911451, \"vistors\": 1270, \"rescues\": 8, \"minor\": 2, \"major\": 2, \"cpr\": 2, \"casualties\": 0}}, {\"geometry\": {\"x\": 170.51221700000008, \"y\": -45.90865199999996}, \"attributes\": {\"objectid\": 54, \"id\": 54, \"beach\": \"St Kilda\", \"patrol\": \"Patrolled by St Kilda SLSC.\", \"longitude\": 170.512217, \"latitude\": -45.908652, \"vistors\": 1200, \"rescues\": 17, \"minor\": 5, \"major\": 9, \"cpr\": 5, \"casualties\": 0}}, {\"geometry\": {\"x\": 172.75665700000002, \"y\": -43.565687999999966}, \"attributes\": {\"objectid\": 55, \"id\": 55, \"beach\": \"Sumner\", \"patrol\": \"Patrolled by Sumner SLSC.\", \"longitude\": 172.756657, \"latitude\": -43.565688, \"vistors\": 860, \"rescues\": 15, \"minor\": 11, \"major\": 4, \"cpr\": 2, \"casualties\": 0}}, {\"geometry\": {\"x\": 174.70999700000004, \"y\": -37.39934599999998}, \"attributes\": {\"objectid\": 56, \"id\": 56, \"beach\": \"Sunset\", \"patrol\": \"Patrolled by Sunset Beach SLSC.\", \"longitude\": 174.709997, \"latitude\": -37.399346, \"vistors\": 40, \"rescues\": 2, \"minor\": 1, \"major\": 0, \"cpr\": 0, \"casualties\": 0}}, {\"geometry\": {\"x\": 173.24697000000003, \"y\": -41.27920899999998}, \"attributes\": {\"objectid\": 57, \"id\": 57, \"beach\": \"Tahunanui\", \"patrol\": \"Patrolled by Nelson SLSC.\", \"longitude\": 173.24697, \"latitude\": -41.279209, \"vistors\": 480, \"rescues\": 12, \"minor\": 8, \"major\": 3, \"cpr\": 1, \"casualties\": 0}}, {\"geometry\": {\"x\": 175.8626170000001, \"y\": -36.995491999999956}, \"attributes\": {\"objectid\": 58, \"id\": 58, \"beach\": \"Tairua\", \"patrol\": \"Patrolled by Tairua SLSC\", \"longitude\": 175.862617, \"latitude\": -36.995492, \"vistors\": 50, \"rescues\": 2, \"minor\": 1, \"major\": 1, \"cpr\": 0, \"casualties\": 0}}, {\"geometry\": {\"x\": 174.77570100000003, \"y\": -36.787995999999964}, \"attributes\": {\"objectid\": 59, \"id\": 59, \"beach\": \"Takapuna\", \"patrol\": \"Patrolled by Regional Guards.\", \"longitude\": 174.775701, \"latitude\": -36.787996, \"vistors\": 1680, \"rescues\": 16, \"minor\": 11, \"major\": 0, \"cpr\": 0, \"casualties\": 0}}, {\"geometry\": {\"x\": 172.77681100000007, \"y\": -43.58329799999996}, \"attributes\": {\"objectid\": 60, \"id\": 60, \"beach\": \"Taylors Mistake\", \"patrol\": \"Patrolled by Taylors Mistake SLSC.\", \"longitude\": 172.776811, \"latitude\": -43.583298, \"vistors\": 1500, \"rescues\": 13, \"minor\": 1, \"major\": 10, \"cpr\": 1, \"casualties\": 0}}, {\"geometry\": {\"x\": 176.8782520000001, \"y\": -37.90847599999995}, \"attributes\": {\"objectid\": 61, \"id\": 61, \"beach\": \"Thornton\", \"patrol\": \"Patrolled by Regional Guards.\", \"longitude\": 176.878252, \"latitude\": -37.908476, \"vistors\": 220, \"rescues\": 7, \"minor\": 4, \"major\": 2, \"cpr\": 0, \"casualties\": 0}}, {\"geometry\": {\"x\": 174.83518100000003, \"y\": -41.10612299999997}, \"attributes\": {\"objectid\": 62, \"id\": 62, \"beach\": \"Titahi Bay\", \"patrol\": \"Patrolled by Titahi Bay SLSC.\", \"longitude\": 174.835181, \"latitude\": -41.106123, \"vistors\": 1720, \"rescues\": 11, \"minor\": 9, \"major\": 1, \"cpr\": 1, \"casualties\": 0}}, {\"geometry\": {\"x\": 178.30587900000012, \"y\": -38.36679099999998}, \"attributes\": {\"objectid\": 63, \"id\": 63, \"beach\": \"Tolaga Bay\", \"patrol\": \"Patrolled by Regional Guards.\", \"longitude\": 178.305879, \"latitude\": -38.366791, \"vistors\": 20, \"rescues\": 2, \"minor\": 1, \"major\": 0, \"cpr\": 0, \"casualties\": 0}}, {\"geometry\": {\"x\": 175.93870600000002, \"y\": -37.396874999999966}, \"attributes\": {\"objectid\": 64, \"id\": 64, \"beach\": \"Waihi\", \"patrol\": \"Patrolled by Waihi SLSC.\", \"longitude\": 175.938706, \"latitude\": -37.396875, \"vistors\": 200, \"rescues\": 8, \"minor\": 1, \"major\": 6, \"cpr\": 4, \"casualties\": 2}}, {\"geometry\": {\"x\": 178.01695700000005, \"y\": -38.67126299999995}, \"attributes\": {\"objectid\": 65, \"id\": 65, \"beach\": \"Waikanae\", \"patrol\": \"Patrolled by Waikanae SLSC.\", \"longitude\": 178.016957, \"latitude\": -38.671263, \"vistors\": 920, \"rescues\": 12, \"minor\": 8, \"major\": 1, \"cpr\": 1, \"casualties\": 0}}, {\"geometry\": {\"x\": 172.72419700000012, \"y\": -43.485706999999934}, \"attributes\": {\"objectid\": 66, \"id\": 66, \"beach\": \"Waimairi\", \"patrol\": \"Patrolled by Waimairi SLSC.\", \"longitude\": 172.724197, \"latitude\": -43.485707, \"vistors\": 1030, \"rescues\": 12, \"minor\": 11, \"major\": 0, \"cpr\": 0, \"casualties\": 0}}, {\"geometry\": {\"x\": 176.99422500000003, \"y\": -39.81463499999995}, \"attributes\": {\"objectid\": 67, \"id\": 67, \"beach\": \"Waimarama\", \"patrol\": \"Patrolled by Waimarama SLSC.\", \"longitude\": 176.994225, \"latitude\": -39.814635, \"vistors\": 30, \"rescues\": 2, \"minor\": 1, \"major\": 1, \"cpr\": 0, \"casualties\": 0}}, {\"geometry\": {\"x\": 178.08126600000003, \"y\": -38.67885999999993}, \"attributes\": {\"objectid\": 68, \"id\": 68, \"beach\": \"Wainui\", \"patrol\": \"Patrolled by Wainui SLSC.\", \"longitude\": 178.081266, \"latitude\": -38.67886, \"vistors\": 270, \"rescues\": 12, \"minor\": 5, \"major\": 7, \"cpr\": 4, \"casualties\": 0}}, {\"geometry\": {\"x\": 177.24008200000003, \"y\": -37.991431999999975}, \"attributes\": {\"objectid\": 69, \"id\": 69, \"beach\": \"Waiotahi\", \"patrol\": \"Patrolled by Opotiki SLSC.\", \"longitude\": 177.240082, \"latitude\": -37.991432, \"vistors\": 170, \"rescues\": 8, \"minor\": 3, \"major\": 4, \"cpr\": 3, \"casualties\": 0}}, {\"geometry\": {\"x\": 174.50696500000004, \"y\": -36.02891999999997}, \"attributes\": {\"objectid\": 70, \"id\": 70, \"beach\": \"Waipu Cove\", \"patrol\": \"Patrolled by Waipu Cove SLSC.\", \"longitude\": 174.506965, \"latitude\": -36.02892, \"vistors\": 40, \"rescues\": 4, \"minor\": 0, \"major\": 0, \"cpr\": 0, \"casualties\": 0}}, {\"geometry\": {\"x\": 174.2268560000001, \"y\": -38.989101999999946}, \"attributes\": {\"objectid\": 71, \"id\": 71, \"beach\": \"Waitara\", \"patrol\": \"Patrolled by Waitara Swimming & SLSC.\", \"longitude\": 174.226856, \"latitude\": -38.989102, \"vistors\": 450, \"rescues\": 13, \"minor\": 10, \"major\": 1, \"cpr\": 1, \"casualties\": 0}}, {\"geometry\": {\"x\": 175.19559500000003, \"y\": -40.54914899999994}, \"attributes\": {\"objectid\": 72, \"id\": 72, \"beach\": \"Waiterere\", \"patrol\": \"Patrolled by Levin-Waiterere SLSC.\", \"longitude\": 175.195595, \"latitude\": -40.549149, \"vistors\": 110, \"rescues\": 5, \"minor\": 0, \"major\": 0, \"cpr\": 0, \"casualties\": 0}}, {\"geometry\": {\"x\": 170.59999500000004, \"y\": -45.71456999999998}, \"attributes\": {\"objectid\": 73, \"id\": 73, \"beach\": \"Warrington\", \"patrol\": \"Patrolled by Warrington SLSC.\", \"longitude\": 170.599995, \"latitude\": -45.71457, \"vistors\": 90, \"rescues\": 2, \"minor\": 1, \"major\": 1, \"cpr\": 0, \"casualties\": 0}}, {\"geometry\": {\"x\": 176.88290800000004, \"y\": -39.47506099999998}, \"attributes\": {\"objectid\": 74, \"id\": 74, \"beach\": \"Westshore\", \"patrol\": \"Patrolled by Westshore SLSC.\", \"longitude\": 176.882908, \"latitude\": -39.475061, \"vistors\": 1590, \"rescues\": 12, \"minor\": 10, \"major\": 0, \"cpr\": 0, \"casualties\": 0}}, {\"geometry\": {\"x\": 175.87961200000007, \"y\": -37.21411299999994}, \"attributes\": {\"objectid\": 75, \"id\": 75, \"beach\": \"Whangamata\", \"patrol\": \"Patrolled by Whangamata SLSC.\", \"longitude\": 175.879612, \"latitude\": -37.214113, \"vistors\": 120, \"rescues\": 4, \"minor\": 3, \"major\": 1, \"cpr\": 1, \"casualties\": 0}}, {\"geometry\": {\"x\": 175.90276500000004, \"y\": -37.28303399999993}, \"attributes\": {\"objectid\": 76, \"id\": 76, \"beach\": \"Whiritoa\", \"patrol\": \"Patrolled by Whiritoa SLSC.\", \"longitude\": 175.902765, \"latitude\": -37.283034, \"vistors\": 40, \"rescues\": 1, \"minor\": 0, \"major\": 0, \"cpr\": 0, \"casualties\": 0}}, {\"geometry\": {\"x\": 174.05744800000002, \"y\": -41.38648499999994}, \"attributes\": {\"objectid\": 77, \"id\": 77, \"beach\": \"Whites Bay\", \"patrol\": \"Patrolled by Rairangi SLSC.\", \"longitude\": 174.057448, \"latitude\": -41.386485, \"vistors\": 40, \"rescues\": 1, \"minor\": 0, \"major\": 0, \"cpr\": 0, \"casualties\": 0}}, {\"geometry\": {\"x\": 172.72164900000007, \"y\": -43.28805399999993}, \"attributes\": {\"objectid\": 78, \"id\": 78, \"beach\": \"Wiakuku\", \"patrol\": \"Patrolled by Waikuku Beach SLSC.\", \"longitude\": 172.721649, \"latitude\": -43.288054, \"vistors\": 330, \"rescues\": 8, \"minor\": 1, \"major\": 2, \"cpr\": 0, \"casualties\": 0}}, {\"geometry\": {\"x\": 174.82898000000012, \"y\": -41.31322499999993}, \"attributes\": {\"objectid\": 79, \"id\": 79, \"beach\": \"Worser Bay\", \"patrol\": \"Patrolled by Worser Bay SLSC.\", \"longitude\": 174.82898, \"latitude\": -41.313225, \"vistors\": 1520, \"rescues\": 14, \"minor\": 1, \"major\": 8, \"cpr\": 0, \"casualties\": 0}}], \"objectIdFieldName\": \"objectid\", \"spatialReference\": {\"wkid\": 4326, \"latestWkid\": 4326}, \"geometryType\": \"esriGeometryPoint\", \"fields\": [{\"name\": \"objectid\", \"type\": \"esriFieldTypeOID\", \"alias\": \"OBJECTID\"}, {\"name\": \"id\", \"type\": \"esriFieldTypeInteger\", \"alias\": \"ID\"}, {\"name\": \"beach\", \"type\": \"esriFieldTypeString\", \"alias\": \"Beach\", \"length\": 8000}, {\"name\": \"patrol\", \"type\": \"esriFieldTypeString\", \"alias\": \"Patrol\", \"length\": 8000}, {\"name\": \"longitude\", \"type\": \"esriFieldTypeDouble\", \"alias\": \"Longitude\"}, {\"name\": \"latitude\", \"type\": \"esriFieldTypeDouble\", \"alias\": \"Latitude\"}, {\"name\": \"vistors\", \"type\": \"esriFieldTypeInteger\", \"alias\": \"Vistors\"}, {\"name\": \"rescues\", \"type\": \"esriFieldTypeInteger\", \"alias\": \"Rescues\"}, {\"name\": \"minor\", \"type\": \"esriFieldTypeInteger\", \"alias\": \"Minor\"}, {\"name\": \"major\", \"type\": \"esriFieldTypeInteger\", \"alias\": \"Major\"}, {\"name\": \"cpr\", \"type\": \"esriFieldTypeInteger\", \"alias\": \"CPR\"}, {\"name\": \"casualties\", \"type\": \"esriFieldTypeInteger\", \"alias\": \"Casualties\"}]}\n"
     ]
    }
   ],
   "source": [
    "# query the layer - I want to return all layers\n",
    "featureSet = layer.query()\n",
    "print (featureSet)"
   ]
  },
  {
   "cell_type": "code",
   "execution_count": 43,
   "metadata": {},
   "outputs": [
    {
     "name": "stdout",
     "output_type": "stream",
     "text": [
      "{\"geometry\": {\"x\": 174.65403600000002, \"y\": -37.283477999999945}, \"attributes\": {\"objectid\": 14, \"id\": 14, \"beach\": \"Kariaotahi\", \"patrol\": \"Patrolled by Kariaotahi SLSC.\", \"longitude\": 174.654036, \"latitude\": -37.283478, \"vistors\": 350, \"rescues\": 8, \"minor\": 7, \"major\": 0, \"cpr\": 0, \"casualties\": 0}}\n"
     ]
    }
   ],
   "source": [
    "# explore the features within the feature set\n",
    "features = featureSet.features\n",
    "print (features[0])"
   ]
  },
  {
   "cell_type": "markdown",
   "metadata": {},
   "source": [
    "### Read in Weekly Surf Reports"
   ]
  },
  {
   "cell_type": "code",
   "execution_count": 44,
   "metadata": {},
   "outputs": [],
   "source": [
    "import pandas as pd"
   ]
  },
  {
   "cell_type": "code",
   "execution_count": 45,
   "metadata": {},
   "outputs": [
    {
     "data": {
      "text/html": [
       "<div>\n",
       "<style scoped>\n",
       "    .dataframe tbody tr th:only-of-type {\n",
       "        vertical-align: middle;\n",
       "    }\n",
       "\n",
       "    .dataframe tbody tr th {\n",
       "        vertical-align: top;\n",
       "    }\n",
       "\n",
       "    .dataframe thead th {\n",
       "        text-align: right;\n",
       "    }\n",
       "</style>\n",
       "<table border=\"1\" class=\"dataframe\">\n",
       "  <thead>\n",
       "    <tr style=\"text-align: right;\">\n",
       "      <th></th>\n",
       "      <th>ID</th>\n",
       "      <th>Beach</th>\n",
       "      <th>Patrol</th>\n",
       "      <th>Longitude</th>\n",
       "      <th>Latitude</th>\n",
       "      <th>Vistors</th>\n",
       "      <th>Rescues</th>\n",
       "      <th>Minor</th>\n",
       "      <th>Major</th>\n",
       "      <th>CPR</th>\n",
       "      <th>Casualties</th>\n",
       "    </tr>\n",
       "  </thead>\n",
       "  <tbody>\n",
       "    <tr>\n",
       "      <th>0</th>\n",
       "      <td>1</td>\n",
       "      <td>Ahipara</td>\n",
       "      <td>Patrolled by Far North SLSC.</td>\n",
       "      <td>173.134747</td>\n",
       "      <td>-35.176439</td>\n",
       "      <td>50</td>\n",
       "      <td>1</td>\n",
       "      <td>0</td>\n",
       "      <td>0</td>\n",
       "      <td>0</td>\n",
       "      <td>0</td>\n",
       "    </tr>\n",
       "    <tr>\n",
       "      <th>1</th>\n",
       "      <td>2</td>\n",
       "      <td>Baylys</td>\n",
       "      <td>Patrolled by Regional Guards.</td>\n",
       "      <td>173.743372</td>\n",
       "      <td>-35.953805</td>\n",
       "      <td>30</td>\n",
       "      <td>2</td>\n",
       "      <td>0</td>\n",
       "      <td>0</td>\n",
       "      <td>0</td>\n",
       "      <td>0</td>\n",
       "    </tr>\n",
       "    <tr>\n",
       "      <th>2</th>\n",
       "      <td>3</td>\n",
       "      <td>Bethells</td>\n",
       "      <td>Patrolled by Bethells Beach SLSC.</td>\n",
       "      <td>174.444265</td>\n",
       "      <td>-36.894655</td>\n",
       "      <td>110</td>\n",
       "      <td>8</td>\n",
       "      <td>6</td>\n",
       "      <td>0</td>\n",
       "      <td>0</td>\n",
       "      <td>0</td>\n",
       "    </tr>\n",
       "    <tr>\n",
       "      <th>3</th>\n",
       "      <td>4</td>\n",
       "      <td>Brighton</td>\n",
       "      <td>Patrolled by Brighton SLSC.</td>\n",
       "      <td>170.329038</td>\n",
       "      <td>-45.950463</td>\n",
       "      <td>170</td>\n",
       "      <td>12</td>\n",
       "      <td>8</td>\n",
       "      <td>0</td>\n",
       "      <td>0</td>\n",
       "      <td>0</td>\n",
       "    </tr>\n",
       "    <tr>\n",
       "      <th>4</th>\n",
       "      <td>5</td>\n",
       "      <td>Browns Bay</td>\n",
       "      <td>Patrolled by Regional Guards.</td>\n",
       "      <td>174.750381</td>\n",
       "      <td>-36.712794</td>\n",
       "      <td>1280</td>\n",
       "      <td>16</td>\n",
       "      <td>9</td>\n",
       "      <td>5</td>\n",
       "      <td>2</td>\n",
       "      <td>0</td>\n",
       "    </tr>\n",
       "  </tbody>\n",
       "</table>\n",
       "</div>"
      ],
      "text/plain": [
       "   ID       Beach                             Patrol   Longitude   Latitude  \\\n",
       "0   1     Ahipara       Patrolled by Far North SLSC.  173.134747 -35.176439   \n",
       "1   2      Baylys      Patrolled by Regional Guards.  173.743372 -35.953805   \n",
       "2   3    Bethells  Patrolled by Bethells Beach SLSC.  174.444265 -36.894655   \n",
       "3   4    Brighton        Patrolled by Brighton SLSC.  170.329038 -45.950463   \n",
       "4   5  Browns Bay      Patrolled by Regional Guards.  174.750381 -36.712794   \n",
       "\n",
       "   Vistors  Rescues  Minor  Major  CPR  Casualties  \n",
       "0       50        1      0      0    0           0  \n",
       "1       30        2      0      0    0           0  \n",
       "2      110        8      6      0    0           0  \n",
       "3      170       12      8      0    0           0  \n",
       "4     1280       16      9      5    2           0  "
      ]
     },
     "execution_count": 45,
     "metadata": {},
     "output_type": "execute_result"
    }
   ],
   "source": [
    "surfReport_CSV = '/arcgis/home/Week1.csv'\n",
    "\n",
    "surfReport = pd.read_csv(surfReport_CSV)\n",
    "\n",
    "# Using both Pandas and Jupyter Notebooks we can print the sheet\n",
    "surfReport.head()"
   ]
  },
  {
   "cell_type": "markdown",
   "metadata": {},
   "source": [
    "### Update a Data in a Feature Service"
   ]
  },
  {
   "cell_type": "code",
   "execution_count": 46,
   "metadata": {},
   "outputs": [
    {
     "data": {
      "text/plain": [
       "{'addResults': [],\n",
       " 'updateResults': [{'objectId': 14, 'success': True},\n",
       "  {'objectId': 16, 'success': True},\n",
       "  {'objectId': 17, 'success': True},\n",
       "  {'objectId': 18, 'success': True},\n",
       "  {'objectId': 19, 'success': True},\n",
       "  {'objectId': 20, 'success': True},\n",
       "  {'objectId': 21, 'success': True},\n",
       "  {'objectId': 22, 'success': True},\n",
       "  {'objectId': 1, 'success': True},\n",
       "  {'objectId': 2, 'success': True},\n",
       "  {'objectId': 3, 'success': True},\n",
       "  {'objectId': 4, 'success': True},\n",
       "  {'objectId': 5, 'success': True},\n",
       "  {'objectId': 6, 'success': True},\n",
       "  {'objectId': 7, 'success': True},\n",
       "  {'objectId': 8, 'success': True},\n",
       "  {'objectId': 9, 'success': True},\n",
       "  {'objectId': 10, 'success': True},\n",
       "  {'objectId': 11, 'success': True},\n",
       "  {'objectId': 12, 'success': True},\n",
       "  {'objectId': 13, 'success': True},\n",
       "  {'objectId': 15, 'success': True},\n",
       "  {'objectId': 28, 'success': True},\n",
       "  {'objectId': 29, 'success': True},\n",
       "  {'objectId': 30, 'success': True},\n",
       "  {'objectId': 31, 'success': True},\n",
       "  {'objectId': 32, 'success': True},\n",
       "  {'objectId': 33, 'success': True},\n",
       "  {'objectId': 34, 'success': True},\n",
       "  {'objectId': 23, 'success': True},\n",
       "  {'objectId': 24, 'success': True},\n",
       "  {'objectId': 25, 'success': True},\n",
       "  {'objectId': 26, 'success': True},\n",
       "  {'objectId': 27, 'success': True},\n",
       "  {'objectId': 35, 'success': True},\n",
       "  {'objectId': 36, 'success': True},\n",
       "  {'objectId': 37, 'success': True},\n",
       "  {'objectId': 38, 'success': True},\n",
       "  {'objectId': 39, 'success': True},\n",
       "  {'objectId': 40, 'success': True},\n",
       "  {'objectId': 41, 'success': True},\n",
       "  {'objectId': 42, 'success': True},\n",
       "  {'objectId': 43, 'success': True},\n",
       "  {'objectId': 44, 'success': True},\n",
       "  {'objectId': 45, 'success': True},\n",
       "  {'objectId': 46, 'success': True},\n",
       "  {'objectId': 47, 'success': True},\n",
       "  {'objectId': 48, 'success': True},\n",
       "  {'objectId': 49, 'success': True},\n",
       "  {'objectId': 50, 'success': True},\n",
       "  {'objectId': 51, 'success': True},\n",
       "  {'objectId': 52, 'success': True},\n",
       "  {'objectId': 53, 'success': True},\n",
       "  {'objectId': 54, 'success': True},\n",
       "  {'objectId': 55, 'success': True},\n",
       "  {'objectId': 56, 'success': True},\n",
       "  {'objectId': 57, 'success': True},\n",
       "  {'objectId': 58, 'success': True},\n",
       "  {'objectId': 59, 'success': True},\n",
       "  {'objectId': 60, 'success': True},\n",
       "  {'objectId': 61, 'success': True},\n",
       "  {'objectId': 62, 'success': True},\n",
       "  {'objectId': 63, 'success': True},\n",
       "  {'objectId': 64, 'success': True},\n",
       "  {'objectId': 65, 'success': True},\n",
       "  {'objectId': 66, 'success': True},\n",
       "  {'objectId': 67, 'success': True},\n",
       "  {'objectId': 68, 'success': True},\n",
       "  {'objectId': 69, 'success': True},\n",
       "  {'objectId': 70, 'success': True},\n",
       "  {'objectId': 71, 'success': True},\n",
       "  {'objectId': 72, 'success': True},\n",
       "  {'objectId': 73, 'success': True},\n",
       "  {'objectId': 74, 'success': True},\n",
       "  {'objectId': 75, 'success': True},\n",
       "  {'objectId': 76, 'success': True},\n",
       "  {'objectId': 77, 'success': True},\n",
       "  {'objectId': 78, 'success': True},\n",
       "  {'objectId': 79, 'success': True}],\n",
       " 'deleteResults': [],\n",
       " 'attachments': {'addResults': [], 'updateResults': [], 'deleteResults': []}}"
      ]
     },
     "execution_count": 46,
     "metadata": {},
     "output_type": "execute_result"
    }
   ],
   "source": [
    "# create an empty list that will contain the info for all our features that we are going to update\n",
    "myFeatures = []\n",
    "\n",
    "for f in features:\n",
    "    for index, row in surfReport.iterrows():\n",
    "        if f.attributes['id'] == (row['ID']):\n",
    "            \n",
    "            # create empty dictionaries that we will store our Attributes and Geometry in.\n",
    "            myAttributes = {}\n",
    "            myGeometry = {}\n",
    "            \n",
    "            # confirm the object id\n",
    "            myAttributes['objectid'] = f.attributes['id']\n",
    "            \n",
    "            # confirm the location data\n",
    "            myGeometry['x'] = f.geometry['x']\n",
    "            myGeometry['y'] = f.geometry['y']\n",
    "\n",
    "            # pull out the data for each location\n",
    "            myAttributes['beach'] = f.attributes['beach']\n",
    "            myAttributes['patrol'] = f.attributes['patrol']\n",
    "            myAttributes['vistors'] = f.attributes['vistors'] + (row['Vistors'])\n",
    "            myAttributes['rescues'] = f.attributes['rescues'] + (row['Rescues'])\n",
    "            myAttributes['minor'] = f.attributes['minor'] + (row['Minor'])\n",
    "            myAttributes['major'] = f.attributes['major'] + (row['Major'])\n",
    "            myAttributes['cpr'] = f.attributes['cpr'] + (row['CPR'])\n",
    "            myAttributes['casualties'] = f.attributes['casualties'] + (row['Casualties'])\n",
    "            \n",
    "            newFeature = {\"geometry\": myGeometry, \"attributes\": myAttributes}\n",
    "            myFeatures.append(newFeature)\n",
    "            \n",
    "layer.edit_features(updates=myFeatures)  "
   ]
  },
  {
   "cell_type": "code",
   "execution_count": null,
   "metadata": {},
   "outputs": [],
   "source": []
  }
 ],
 "metadata": {
  "esriNotebookRuntime": {
   "notebookRuntimeName": "ArcGIS Notebook Python 3 Advanced",
   "notebookRuntimeVersion": "10.7.1"
  },
  "kernelspec": {
   "display_name": "Python 3",
   "language": "python",
   "name": "python3"
  },
  "language_info": {
   "codemirror_mode": {
    "name": "ipython",
    "version": 3
   },
   "file_extension": ".py",
   "mimetype": "text/x-python",
   "name": "python",
   "nbconvert_exporter": "python",
   "pygments_lexer": "ipython3",
   "version": "3.6.8"
  }
 },
 "nbformat": 4,
 "nbformat_minor": 2
}
