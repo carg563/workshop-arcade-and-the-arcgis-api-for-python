{
 "cells": [
  {
   "cell_type": "markdown",
   "metadata": {},
   "source": [
    "## Module 6\n",
    "# Updating Content from a GPX file"
   ]
  },
  {
   "cell_type": "code",
   "execution_count": null,
   "metadata": {},
   "outputs": [],
   "source": [
    "from arcgis.gis import GIS\n",
    "\n",
    "# connect to GIS through a profile\n",
    "gis = GIS(profile='Support')\n",
    "print(\"Logged in as \" + gis.properties.user.username + \" to \" + gis.properties.name)"
   ]
  },
  {
   "cell_type": "markdown",
   "metadata": {},
   "source": [
    "### Access a Public Map"
   ]
  },
  {
   "cell_type": "code",
   "execution_count": null,
   "metadata": {},
   "outputs": [],
   "source": [
    "# Title: Hazard Map | Type: Web Map | Owner: ryan_cooper@eagle.co.nz\n",
    "myMap = gis.content.get(\"57713e41d41a4c8c84f7e5317f4ff7b7\")\n",
    "myMap"
   ]
  },
  {
   "cell_type": "code",
   "execution_count": null,
   "metadata": {},
   "outputs": [],
   "source": [
    "from arcgis.mapping import WebMap\n",
    "surfMap = WebMap(myMap)\n",
    "\n",
    "surfMap"
   ]
  },
  {
   "cell_type": "markdown",
   "metadata": {},
   "source": [
    "#### Display the layers in this map"
   ]
  },
  {
   "cell_type": "code",
   "execution_count": null,
   "metadata": {},
   "outputs": [],
   "source": [
    "print ('Layers in this Map')\n",
    "\n",
    "for layer in surfMap.layers:\n",
    "    print (layer['title'])"
   ]
  },
  {
   "cell_type": "markdown",
   "metadata": {},
   "source": [
    "### Clone this map and all content"
   ]
  },
  {
   "cell_type": "code",
   "execution_count": null,
   "metadata": {},
   "outputs": [],
   "source": [
    "# this function will clone the item we defined above\n",
    "myClone = gis.content.clone_items([myMap])\n",
    "\n",
    "n = 0\n",
    "\n",
    "for item in myClone:\n",
    "    print (\"{0} - {1}\".format(n,item['title']))\n",
    "    n += 1"
   ]
  },
  {
   "cell_type": "markdown",
   "metadata": {},
   "source": [
    "#### Rename all the content"
   ]
  },
  {
   "cell_type": "code",
   "execution_count": null,
   "metadata": {},
   "outputs": [],
   "source": [
    "# rename the dataset\n",
    "myClone[0].update(item_properties={'title':'Patrol Hazards - RJC'})\n",
    "\n",
    "# rename the dataset\n",
    "myClone[1].update(item_properties={'title':'Patrol Locations - RJC'})\n",
    "\n",
    "# rename the dataset\n",
    "myClone[2].update(item_properties={'title':'Hazard Map - RJC'})\n",
    "\n",
    "# define the myItem varible that we will use for this Module\n",
    "myItem = myClone[0]"
   ]
  },
  {
   "cell_type": "markdown",
   "metadata": {},
   "source": [
    "### Explore the hazards layer"
   ]
  },
  {
   "cell_type": "code",
   "execution_count": null,
   "metadata": {},
   "outputs": [],
   "source": [
    "myMap = gis.map(\"New Zealand\", zoomlevel=5)\n",
    "myMap"
   ]
  },
  {
   "cell_type": "markdown",
   "metadata": {},
   "source": [
    "#### Add layer to map"
   ]
  },
  {
   "cell_type": "code",
   "execution_count": null,
   "metadata": {},
   "outputs": [],
   "source": [
    "myMap.add_layer(myItem)"
   ]
  },
  {
   "cell_type": "markdown",
   "metadata": {},
   "source": [
    "#### Delete the existing data in our Hazards layer"
   ]
  },
  {
   "cell_type": "code",
   "execution_count": null,
   "metadata": {},
   "outputs": [],
   "source": [
    "# pull out the desired layer of the feature service\n",
    "layer = myItem.layers[0]\n",
    "print (layer)"
   ]
  },
  {
   "cell_type": "code",
   "execution_count": null,
   "metadata": {},
   "outputs": [],
   "source": [
    "# query the layer - how many features are in there?\n",
    "featureSet = layer.query()\n",
    "featureSet"
   ]
  },
  {
   "cell_type": "code",
   "execution_count": null,
   "metadata": {},
   "outputs": [],
   "source": [
    "# delete all features\n",
    "layer.delete_features(where=\"oid > 0\")"
   ]
  },
  {
   "cell_type": "markdown",
   "metadata": {},
   "source": [
    "### Upload New Points from GPX"
   ]
  },
  {
   "cell_type": "code",
   "execution_count": null,
   "metadata": {},
   "outputs": [],
   "source": [
    "import urllib.request\n",
    "\n",
    "surfHazards_GPX = r'https://raw.githubusercontent.com/RJC32/WorkshopIcons/master/Users/surfHazards2.gpx'\n",
    "filePath = r'C:\\Users\\rjc.EAGLE\\Desktop\\hazards2.gpx'\n",
    "\n",
    "print (\"download start\")\n",
    "filename, headers = urllib.request.urlretrieve(surfHazards_GPX, filePath)\n",
    "print (\"download complete\")\n",
    "\n",
    "print (\"download file location: \", filename)"
   ]
  },
  {
   "cell_type": "markdown",
   "metadata": {},
   "source": [
    "#### Display the coordinates from the GPX file"
   ]
  },
  {
   "cell_type": "code",
   "execution_count": null,
   "metadata": {},
   "outputs": [],
   "source": [
    "from lxml import etree\n",
    "\n",
    "NSMAP = {\"gpx\": \"http://www.topografix.com/GPX/1/1\"}\n",
    "tree = etree.parse(filePath)\n",
    "\n",
    "for elem in tree.findall(\"gpx:wpt\", namespaces=NSMAP):\n",
    "     print (elem.attrib['lon'], elem.attrib['lat'])"
   ]
  },
  {
   "cell_type": "markdown",
   "metadata": {},
   "source": [
    "#### Add new features"
   ]
  },
  {
   "cell_type": "code",
   "execution_count": null,
   "metadata": {},
   "outputs": [],
   "source": [
    "# create an empty list that will contain the info for all our features that we are going to update\n",
    "myFeatures = []\n",
    "n = 1\n",
    "\n",
    "for elem in tree.findall(\"gpx:wpt\", namespaces=NSMAP):\n",
    "    \n",
    "    # create empty dictionaries that we will store our Attributes and Geometry in.\n",
    "    myAttributes = {}\n",
    "    myGeometry = {}\n",
    "\n",
    "    # confirm the object id\n",
    "    myAttributes['ObjectID'] = 0\n",
    "\n",
    "    # confirm the location data\n",
    "    myGeometry['x'] = float(elem.attrib['lon'])\n",
    "    myGeometry['y'] = float(elem.attrib['lat'])\n",
    "        \n",
    "    newFeature = {\"geometry\": myGeometry, \"attributes\": myAttributes}\n",
    "    myFeatures.append(newFeature)\n",
    "    \n",
    "layer.edit_features(adds=myFeatures)  "
   ]
  },
  {
   "cell_type": "markdown",
   "metadata": {},
   "source": [
    "### Check the items tags"
   ]
  },
  {
   "cell_type": "code",
   "execution_count": null,
   "metadata": {},
   "outputs": [],
   "source": [
    "myItem.tags"
   ]
  },
  {
   "cell_type": "code",
   "execution_count": null,
   "metadata": {},
   "outputs": [],
   "source": [
    "myItem.update(item_properties={'tags':'Tags, I Love Python'})"
   ]
  }
 ],
 "metadata": {
  "esriNotebookRuntime": {
   "notebookRuntimeName": "ArcGIS Notebook Python 3 Advanced",
   "notebookRuntimeVersion": "10.7.1"
  },
  "kernelspec": {
   "display_name": "Python 3",
   "language": "python",
   "name": "python3"
  },
  "language_info": {
   "codemirror_mode": {
    "name": "ipython",
    "version": 3
   },
   "file_extension": ".py",
   "mimetype": "text/x-python",
   "name": "python",
   "nbconvert_exporter": "python",
   "pygments_lexer": "ipython3",
   "version": "3.6.8"
  }
 },
 "nbformat": 4,
 "nbformat_minor": 2
}
