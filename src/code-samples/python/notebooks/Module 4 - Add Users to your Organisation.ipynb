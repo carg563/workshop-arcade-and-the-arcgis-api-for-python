{
 "cells": [
  {
   "cell_type": "markdown",
   "metadata": {},
   "source": [
    "## Module 4\n",
    "# Add Users to your Organisation\n"
   ]
  },
  {
   "cell_type": "code",
   "execution_count": null,
   "metadata": {},
   "outputs": [],
   "source": [
    "from arcgis.gis import GIS\n",
    "\n",
    "# connect to GIS through a profile\n",
    "gis = GIS(profile='Workshop')\n",
    "print(\"Logged in as \" + gis.properties.user.username + \" to \" + gis.properties.name)"
   ]
  },
  {
   "cell_type": "markdown",
   "metadata": {},
   "source": [
    "### Create a group"
   ]
  },
  {
   "cell_type": "markdown",
   "metadata": {},
   "source": [
    "To create a new group we only require the following:\n",
    "* Title\n",
    "* Tags\n",
    "\n",
    "However, the following is very helpful to add:\n",
    "* Description\n",
    "* Access (Public, Private, Org)\n",
    "* Thumbnail"
   ]
  },
  {
   "cell_type": "code",
   "execution_count": null,
   "metadata": {},
   "outputs": [],
   "source": [
    "title = 'Workshop Users 1'\n",
    "tags = 'NZEUC, Workshop, Python'\n",
    "\n",
    "summary = 'Group for all the particpants in the Python and Arcade Workshop'\n",
    "description = 'This group was created using Python'\n",
    "thumbnail = r'https://github.com/RJC32/WorkshopIcons/blob/master/Groups/Team1.png?raw=true'\n",
    "\n",
    "newGroup = gis.groups.create(title, tags, description, access='org', thumbnail=thumbnail)\n",
    "newGroup"
   ]
  },
  {
   "cell_type": "markdown",
   "metadata": {},
   "source": [
    "### Import Pandas to read in our CSV"
   ]
  },
  {
   "cell_type": "code",
   "execution_count": null,
   "metadata": {},
   "outputs": [],
   "source": [
    "import pandas as pd"
   ]
  },
  {
   "cell_type": "code",
   "execution_count": null,
   "metadata": {},
   "outputs": [],
   "source": [
    "# location the csv that contain new users\n",
    "newUsers_CSV = r'https://github.com/RJC32/WorkshopIcons/blob/master/Users/users.csv?raw=true'\n",
    "\n",
    "# read in the csv with Pandas\n",
    "newUsers = pd.read_csv(newUsers_CSV)\n",
    "\n",
    "# Using both Pandas and Jupyter Notebooks we can print the sheet\n",
    "newUsers.head()"
   ]
  },
  {
   "cell_type": "markdown",
   "metadata": {},
   "source": [
    "### Create new users"
   ]
  },
  {
   "cell_type": "markdown",
   "metadata": {},
   "source": [
    "To create new users within our ArcGIS Online organisation we need the following information:\n",
    "* Username\n",
    "* Password\n",
    "* Firstname\n",
    "* Lastname\n",
    "* Email\n",
    "* User Type\n",
    "\n",
    "The following information is optional:\n",
    "* Description\n",
    "* Thumbnail\n",
    "* Role\n",
    "* Credits\n",
    "* Groups"
   ]
  },
  {
   "cell_type": "code",
   "execution_count": null,
   "metadata": {},
   "outputs": [],
   "source": [
    "from IPython.display import display"
   ]
  },
  {
   "cell_type": "code",
   "execution_count": null,
   "metadata": {},
   "outputs": [],
   "source": [
    "defPassword = 'LF5n8Xktu'\n",
    "setPassword = 'm@ps12345'"
   ]
  },
  {
   "cell_type": "markdown",
   "metadata": {},
   "source": [
    "### Interate through the CSV and Create Users"
   ]
  },
  {
   "cell_type": "code",
   "execution_count": null,
   "metadata": {},
   "outputs": [],
   "source": [
    "myUsers = []\n",
    "\n",
    "for index, row in newUsers.iterrows():\n",
    "    \n",
    "    username = (row['Username'])\n",
    "    password = defPassword\n",
    "    firstname = (row['First Name'])\n",
    "    lastname = (row['Last Name'])\n",
    "    email = (row['Email'])\n",
    "    role = (row['Role'])\n",
    "    user = (row['User Type'])\n",
    "    credits = 20\n",
    "     \n",
    "    # using all the defined varibles we will create new users    \n",
    "    newUser = gis.users.create(username, password, firstname, lastname, email, role=role, user_type=user, credits=20, groups=[newGroup])\n",
    "    \n",
    "    # add all new users to a list, this is just for use in this module\n",
    "    myUsers.append(newUser)\n",
    "    \n",
    "    # display the new user we just created\n",
    "    display(newUser)"
   ]
  },
  {
   "cell_type": "markdown",
   "metadata": {},
   "source": [
    "#### Update the Users thumbnail"
   ]
  },
  {
   "cell_type": "code",
   "execution_count": null,
   "metadata": {},
   "outputs": [],
   "source": [
    "# loop through our list of new users\n",
    "for user in myUsers:\n",
    "\n",
    "    # update the thumbnail for each user\n",
    "    user.update(thumbnail=r'C:\\Users\\{YOU}\\Desktop\\Avatar.png')\n",
    "    \n",
    "    # display these updates\n",
    "    display(user)"
   ]
  },
  {
   "cell_type": "markdown",
   "metadata": {},
   "source": [
    "#### Create Security Question and Change Password"
   ]
  },
  {
   "cell_type": "markdown",
   "metadata": {},
   "source": [
    "Changing these settings for new users will mean that they will not have to enter this information in when they first log in. <br/>\n",
    "It will also prevent the log in credentials from timing out."
   ]
  },
  {
   "cell_type": "code",
   "execution_count": null,
   "metadata": {},
   "outputs": [],
   "source": [
    "for user in myUsers:\n",
    "    \n",
    "    # update the security question\n",
    "    user.update(security_question=1, security_answer='Wellington')\n",
    "    \n",
    "    # security_question = 1 sets the question to 'What city were you born in?'. \n",
    "    # use help(user.update) for more options\n",
    "    \n",
    "    # change password\n",
    "    user.reset(password=defPassword, new_password=setPassword)\n",
    "    \n",
    "    "
   ]
  },
  {
   "cell_type": "markdown",
   "metadata": {},
   "source": [
    "### Add all members to a group"
   ]
  },
  {
   "cell_type": "code",
   "execution_count": null,
   "metadata": {},
   "outputs": [],
   "source": [
    "# create a list of all users\n",
    "myUsers = gis.users.search(max_users=200)\n",
    "myUsers"
   ]
  },
  {
   "cell_type": "code",
   "execution_count": null,
   "metadata": {},
   "outputs": [],
   "source": [
    "# create a list of the groups that these users will be added too\n",
    "myGroup = gis.groups.search('Workshop Users')\n",
    "display (myGroup)"
   ]
  },
  {
   "cell_type": "code",
   "execution_count": null,
   "metadata": {},
   "outputs": [],
   "source": [
    "myGroup[0].add_users(newUser)"
   ]
  },
  {
   "cell_type": "code",
   "execution_count": null,
   "metadata": {},
   "outputs": [],
   "source": [
    "# add all users to this group\n",
    "for user in myUsers:\n",
    "    myGroup[0].add_users(user)"
   ]
  }
 ],
 "metadata": {
  "esriNotebookRuntime": {
   "notebookRuntimeName": "ArcGIS Notebook Python 3 Advanced",
   "notebookRuntimeVersion": "10.7.1"
  },
  "kernelspec": {
   "display_name": "Python 3",
   "language": "python",
   "name": "python3"
  },
  "language_info": {
   "codemirror_mode": {
    "name": "ipython",
    "version": 3
   },
   "file_extension": ".py",
   "mimetype": "text/x-python",
   "name": "python",
   "nbconvert_exporter": "python",
   "pygments_lexer": "ipython3",
   "version": "3.6.8"
  }
 },
 "nbformat": 4,
 "nbformat_minor": 2
}
