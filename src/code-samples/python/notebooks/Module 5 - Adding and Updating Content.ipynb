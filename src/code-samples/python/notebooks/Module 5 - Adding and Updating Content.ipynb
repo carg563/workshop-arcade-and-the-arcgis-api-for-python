{
 "cells": [
  {
   "cell_type": "markdown",
   "metadata": {},
   "source": [
    "## Module 5\n",
    "# Adding and Updating Content"
   ]
  },
  {
   "cell_type": "code",
   "execution_count": null,
   "metadata": {},
   "outputs": [],
   "source": [
    "from arcgis.gis import GIS\n",
    "\n",
    "# connect to GIS through a profile\n",
    "gis = GIS(profile='Support')\n",
    "print(\"Logged in as \" + gis.properties.user.username + \" to \" + gis.properties.name)"
   ]
  },
  {
   "cell_type": "markdown",
   "metadata": {},
   "source": [
    "### Explore Content "
   ]
  },
  {
   "cell_type": "markdown",
   "metadata": {},
   "source": [
    "#### Using the content.get() fucntion we can find content by the item ID\n"
   ]
  },
  {
   "cell_type": "code",
   "execution_count": null,
   "metadata": {},
   "outputs": [],
   "source": [
    "# Item Added From Toolbar\n",
    "# Title: Patrol Information RJC | Type: Feature Service | Owner: ryan_cooper@eagle.co.nz\n",
    "item = gis.content.get(\"0b2459b8140c46d28069a8a038a2242a\")\n",
    "item"
   ]
  },
  {
   "cell_type": "markdown",
   "metadata": {},
   "source": [
    "### Clone Content"
   ]
  },
  {
   "cell_type": "markdown",
   "metadata": {},
   "source": [
    "Using the clone function will 'Clone' all items provided in the function.\n",
    "<br/>\n",
    "You will become the owner of the dataset but all the information will remain the same (including the title)"
   ]
  },
  {
   "cell_type": "code",
   "execution_count": null,
   "metadata": {},
   "outputs": [],
   "source": [
    "# this function will clone the item we defined above\n",
    "myClone = gis.content.clone_items([item])\n",
    "\n",
    "# rename the dataset\n",
    "myClone[0].update(item_properties={'title':'Patrol Information'})\n",
    "\n",
    "# define the myItem varible that we will use for this Module\n",
    "myItem = myClone[0]"
   ]
  },
  {
   "cell_type": "markdown",
   "metadata": {},
   "source": [
    "#### How has this data been shared"
   ]
  },
  {
   "cell_type": "code",
   "execution_count": null,
   "metadata": {},
   "outputs": [],
   "source": [
    "shareStatus = myItem.shared_with\n",
    "\n",
    "# check if this data has been shared to the Public\n",
    "if shareStatus['everyone'] == True:\n",
    "    print ('This data has been shared to the Public')\n",
    "else:\n",
    "    print ('This data is not shared to the Public')\n",
    "    \n",
    "# check if this data has been shared to your Organisation    \n",
    "if shareStatus['org'] == True:\n",
    "    print ('This data has been shared to your Organisation')\n",
    "else:\n",
    "    print ('This data is not shared to your Organisation')\n",
    "\n",
    "# check if this data has been shared to any Groups   \n",
    "if len(shareStatus['groups']) != 0:    \n",
    "    for group in shareStatus['groups']:\n",
    "        print (\"This data has been shared to {0}\".format(group.title))\n",
    "else: \n",
    "    print ('This data is not shared to any Groups')"
   ]
  },
  {
   "cell_type": "markdown",
   "metadata": {},
   "source": [
    "#### Change the Sharing Status"
   ]
  },
  {
   "cell_type": "code",
   "execution_count": null,
   "metadata": {},
   "outputs": [],
   "source": [
    "# do not share this publicaly\n",
    "myItem.share(everyone=True, org=True)\n",
    "# re-run the above cell to test this has worked"
   ]
  },
  {
   "cell_type": "markdown",
   "metadata": {},
   "source": [
    "### Inspect the data within our Item"
   ]
  },
  {
   "cell_type": "code",
   "execution_count": null,
   "metadata": {},
   "outputs": [],
   "source": [
    "# pull out the desired layer of the feature service\n",
    "layer = myItem.layers[0]\n",
    "print (layer)"
   ]
  },
  {
   "cell_type": "code",
   "execution_count": null,
   "metadata": {},
   "outputs": [],
   "source": [
    "# get the properties of the layer\n",
    "print (layer.properties.extent.spatialReference)"
   ]
  },
  {
   "cell_type": "code",
   "execution_count": null,
   "metadata": {},
   "outputs": [],
   "source": [
    "# query the layer - I want to return all layers\n",
    "featureSet = layer.query()\n",
    "print (featureSet)"
   ]
  },
  {
   "cell_type": "code",
   "execution_count": null,
   "metadata": {},
   "outputs": [],
   "source": [
    "# explore the features within the feature set\n",
    "features = featureSet.features\n",
    "print (features[0])"
   ]
  },
  {
   "cell_type": "markdown",
   "metadata": {},
   "source": [
    "### Read in Weekly Surf Reports"
   ]
  },
  {
   "cell_type": "code",
   "execution_count": null,
   "metadata": {},
   "outputs": [],
   "source": [
    "import pandas as pd"
   ]
  },
  {
   "cell_type": "code",
   "execution_count": null,
   "metadata": {},
   "outputs": [],
   "source": [
    "surfReport_CSV = r'https://github.com/RJC32/WorkshopIcons/blob/master/Users/Week0.csv?raw=true'\n",
    "\n",
    "surfReport = pd.read_csv(surfReport_CSV)\n",
    "\n",
    "# Using both Pandas and Jupyter Notebooks we can print the sheet\n",
    "surfReport.head()"
   ]
  },
  {
   "cell_type": "markdown",
   "metadata": {},
   "source": [
    "### Update a Data in a Feature Service"
   ]
  },
  {
   "cell_type": "code",
   "execution_count": null,
   "metadata": {},
   "outputs": [],
   "source": [
    "# create an empty list that will contain the info for all our features that we are going to update\n",
    "myFeatures = []\n",
    "\n",
    "for f in features:\n",
    "    for index, row in surfReport.iterrows():\n",
    "        if f.attributes['OBJECTID'] == (row['ID']):\n",
    "            \n",
    "            # create empty dictionaries that we will store our Attributes and Geometry in.\n",
    "            myAttributes = {}\n",
    "            myGeometry = {}\n",
    "            \n",
    "            # confirm the object id\n",
    "            myAttributes['objectid'] = f.attributes['OBJECTID']\n",
    "            \n",
    "            # confirm the location data\n",
    "            myGeometry['x'] = f.geometry['x']\n",
    "            myGeometry['y'] = f.geometry['y']\n",
    "\n",
    "            # pull out the data for each location\n",
    "            myAttributes['beach'] = f.attributes['Beach']\n",
    "            myAttributes['patrol'] = f.attributes['Patrol']\n",
    "            myAttributes['vistors'] = f.attributes['Vistors'] + (row['Vistors'])\n",
    "            myAttributes['rescues'] = f.attributes['Rescues'] + (row['Rescues'])\n",
    "            myAttributes['minor'] = f.attributes['Minor'] + (row['Minor'])\n",
    "            myAttributes['major'] = f.attributes['Major'] + (row['Major'])\n",
    "            myAttributes['cpr'] = f.attributes['CPR'] + (row['CPR'])\n",
    "            myAttributes['casualties'] = f.attributes['Casualties'] + (row['Casualties'])\n",
    "            \n",
    "            newFeature = {\"geometry\": myGeometry, \"attributes\": myAttributes}\n",
    "            myFeatures.append(newFeature)\n",
    "            \n",
    "layer.edit_features(updates=myFeatures)  "
   ]
  }
 ],
 "metadata": {
  "esriNotebookRuntime": {
   "notebookRuntimeName": "ArcGIS Notebook Python 3 Advanced",
   "notebookRuntimeVersion": "10.7.1"
  },
  "kernelspec": {
   "display_name": "Python 3",
   "language": "python",
   "name": "python3"
  },
  "language_info": {
   "codemirror_mode": {
    "name": "ipython",
    "version": 3
   },
   "file_extension": ".py",
   "mimetype": "text/x-python",
   "name": "python",
   "nbconvert_exporter": "python",
   "pygments_lexer": "ipython3",
   "version": "3.6.8"
  }
 },
 "nbformat": 4,
 "nbformat_minor": 2
}
